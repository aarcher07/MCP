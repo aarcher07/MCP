{
 "cells": [
  {
   "cell_type": "code",
   "execution_count": 1,
   "metadata": {
    "pycharm": {
     "is_executing": false
    }
   },
   "outputs": [],
   "source": [
    "import numpy as np\n",
    "from scipy.integrate import solve_ivp\n",
    "from scipy.constants import *\n",
    "import sys\n",
    "import matplotlib.pyplot as plt\n",
    "import matplotlib.lines as mlines\n",
    "import matplotlib\n",
    "import math\n",
    "import sympy as sp\n",
    "import scipy.sparse as sparse\n",
    "import time\n",
    "from numpy.linalg import LinAlgError\n",
    "\n",
    "from scipy.optimize import curve_fit\n",
    "from scipy import signal\n",
    "from mpl_toolkits.mplot3d import Axes3D\n",
    "from colour import Color\n",
    "\n",
    "from sklearn.decomposition import PCA as sklearnPCA\n",
    "from sklearn.metrics.pairwise import cosine_similarity\n",
    "from sklearn.metrics import auc\n",
    "from SALib.sample import saltelli\n",
    "from SALib.analyze import sobol\n",
    "from SALib.test_functions import Ishigami"
   ]
  },
  {
   "cell_type": "markdown",
   "metadata": {},
   "source": [
    "The following cell contains all the known parameters."
   ]
  },
  {
   "cell_type": "code",
   "execution_count": 2,
   "metadata": {
    "pycharm": {
     "is_executing": false
    }
   },
   "outputs": [],
   "source": [
    "#KmDhaTH = 0.77 #Km for H in N + H <--> D + P\n",
    "#KmDhaTN = 0.03 #Km for N in N + H <--> D + P\n",
    "#KiDhaTD = 0.23 #Ki for D in N + H <--> D + P\n",
    "#KiDhaTP = 7.4  #Ki for P in N + H <--> D + P\n",
    "\n",
    "KmDhaTH = 1.0 #Km for H in N + H <--> D + P\n",
    "KmDhaTN = 1.0 #Km for N in N + H <--> D + P\n",
    "KiDhaTD = 1.0 #Ki for D in N + H <--> D + P\n",
    "KiDhaTP = 1.0  #Ki for P in N + H <--> D + P\n",
    "VfDhaT = 86.2  #V_f for N + H <--> D + P\n",
    "\n",
    "T = 298 # room temperature in kelvin\n",
    "R =  8.314 # gas constant\n",
    "DeltaGDhaT = -35.1/(R*T) # using Ph 7.8 since the IcdE reaction is forward processing\n",
    "DeltaGDhaB = -18.0/(R*T) # using Ph 7.8 since the IcdE reaction is forward processing\n",
    "DeltaGIcdE = -11.4/(R*T) # using Ph 7.8 since the IcdE reaction is forward processing\n",
    "\n",
    "# cell and MCP constants\n",
    "perm_cell = 0.01\n",
    "perm_mcp = 1.0 \n",
    "Vratio = 10\n",
    "Rc = 1.e-5 #Radius of compartment (cm)\n",
    "Diff = 1.e-4 #Diffusion coefficient\n",
    "Rb = 5.e-5 #Effective Radius of cell (cm)\n",
    "D = Diff/(Rc**2)\n",
    "r_mcp = 1. # why? \n",
    "r_cell = Rb/Rc # why?\n",
    "\n",
    "# mcp parameters\n",
    "n_compounds_mcp = 7\n",
    "n_compounds_cell = 5\n",
    "\n",
    "\n",
    "ngrid = int(25)"
   ]
  },
  {
   "cell_type": "markdown",
   "metadata": {},
   "source": [
    "The following cell contains all the unknown constants set to 1.0 and the initial conditions for $N$ and $D$ set to 100."
   ]
  },
  {
   "cell_type": "code",
   "execution_count": 3,
   "metadata": {},
   "outputs": [],
   "source": [
    "# DhaB reaction constants\n",
    "VfDhaB = 60.0\n",
    "KmDhaBG = 1.0\n",
    "KiDhaBH = 1.0\n",
    "\n",
    "# IcdE reaction constants\n",
    "VfIcdE = 100.0\n",
    "KmIcdED = 1.0\n",
    "KmIcdEI = 1.0\n",
    "KiIcdEA = 1.0\n",
    "KiIcdEN = 1.0\n",
    "\n",
    "# initial conditions for GInit\n",
    "GInit = 100.0\n",
    "\n",
    "# initial conditions for NInit\n",
    "NInit = 400.0\n",
    "\n",
    "# initial condition for DInit\n",
    "DInit = 400.0\n",
    "\n",
    "# initial condition for AInit\n",
    "IInit = 500.0\n"
   ]
  },
  {
   "cell_type": "markdown",
   "metadata": {},
   "source": [
    "I set the non-dimensional parameters below."
   ]
  },
  {
   "cell_type": "code",
   "execution_count": 4,
   "metadata": {},
   "outputs": [],
   "source": [
    "# state space and time scaling\n",
    "G0 = KmDhaBG\n",
    "H0 = KmDhaTH\n",
    "N0 = KmDhaTN\n",
    "P0 = KiDhaTP\n",
    "D0 = KmIcdED\n",
    "A0 = KiIcdEA\n",
    "I0 = KmIcdEI\n",
    "t0 = 3*r_mcp/perm_mcp\n",
    "\n",
    "y0 = np.zeros((ngrid+2)*n_compounds_cell+2)\n",
    "y0[-5] = GInit/G0 #y0[-5] gives the initial state of the external substrate. The /G0 turns the value into a dimensionless quantity\n",
    "y0[-1] = IInit/I0 #y0[-1] gives the initial state of the external substrate. The /A0 turns the value into a dimensionless quantity\n",
    "y0[0] = NInit/N0 #y0[5] gives the initial state of the external substrate. The /N0 turns the value into a dimensionless quantity\n",
    "y0[1] = DInit/D0 #y0[6] gives the initial state of the external substrate. The /D0 turns the value into a dimensionless quantity\n",
    "\n",
    "param_list = np.zeros((22))\n",
    "#non-dimensional parameters\n",
    "param_list[0] = t0*VfDhaB/G0\n",
    "param_list[1] = t0*VfDhaB/H0\n",
    "param_list[2] = t0*VfDhaT/H0\n",
    "param_list[3] = t0*VfDhaT/N0\n",
    "param_list[4] = t0*VfIcdE/N0\n",
    "param_list[5] = t0*VfDhaT/P0\n",
    "param_list[6] = t0*VfDhaT/D0\n",
    "param_list[7] = t0*VfIcdE/D0\n",
    "param_list[8] = t0*VfIcdE/I0\n",
    "param_list[9] = t0*VfIcdE/A0\n",
    "\n",
    "param_list[10] = KmDhaTH/KiDhaBH\n",
    "param_list[11] = KmIcdED/KiDhaTD\n",
    "param_list[12] = KmDhaTN/KiIcdEN\n",
    "\n",
    "\n",
    "param_list[13] = (H0/KmDhaBG)*np.exp(DeltaGDhaB)\n",
    "param_list[14] = (P0*D0/(KmDhaTH*KmDhaTN))*np.exp(DeltaGDhaT)\n",
    "param_list[15] = (A0*N0/(KmIcdED*KmIcdEI))*np.exp(DeltaGIcdE)\n",
    "\n",
    "param_list[16] = perm_mcp\n",
    "param_list[17] = perm_cell\n",
    "\n",
    "param_list[18] = GInit\n",
    "param_list[19] = NInit\n",
    "param_list[20] = DInit\n",
    "param_list[21] = IInit\n"
   ]
  },
  {
   "cell_type": "markdown",
   "metadata": {},
   "source": [
    "Below computes the spatial derivative."
   ]
  },
  {
   "cell_type": "code",
   "execution_count": 5,
   "metadata": {},
   "outputs": [],
   "source": [
    "def SDeriv(t,x,params): #spatial derivative\n",
    "\n",
    "    alpha_list = params[:10]\n",
    "    beta_list = params[10:13]\n",
    "    gamma_list = params[13:16]\n",
    "    perm_mcp = params[16]\n",
    "    perm_cell = params[17]\n",
    "    \n",
    "    ### why this scaling ####\n",
    "    M_cell = (Rb/Rc)**3/3. # why?\n",
    "    M_mcp = 1./3. # why?\n",
    "    M = M_mcp\n",
    "    DeltaM = np.divide((M_cell-M_mcp),(ngrid))\n",
    "\n",
    "    ### why this scaling ####\n",
    "\n",
    "    assert len(x) == 5*(2+(ngrid)) + 2 \n",
    "\n",
    "    d = np.zeros((len(x))).tolist() # convert to list to allow use of symbolic derivatives\n",
    "\n",
    "\n",
    "    ###################################################################################\n",
    "    ################################## MCP reactions ##################################\n",
    "    ###################################################################################\n",
    "\n",
    "    R_DhaB = (x[2] - gamma_list[0]*x[3])/(1+x[2]+x[3]*beta_list[0])\n",
    "    R_DhaT = (x[3]*x[0] - gamma_list[1]*x[4]*x[1])/(1+x[3]*x[0]+beta_list[1]*x[4]*x[1])\n",
    "    R_IcdE = (x[1]*x[6]- gamma_list[2]*x[5]*x[0])/(1+x[6]*x[1]+beta_list[2]*x[5]*x[0])\n",
    "\n",
    "    d[0] = -alpha_list[3]*R_DhaT + alpha_list[4]*R_IcdE                                #microcompartment equation for N\n",
    "    d[1] = alpha_list[6]*R_DhaT - alpha_list[7]*R_IcdE                                 #microcompartment equation for D\n",
    "    \n",
    "    d[2] = -alpha_list[0]*R_DhaB + x[2+n_compounds_cell] - x[2]                 #microcompartment equation for G\n",
    "    d[3] = alpha_list[1]*R_DhaB - alpha_list[2]*R_DhaT + x[3+n_compounds_cell] - x[3]  #microcompartment equation for H\n",
    "    d[4] = alpha_list[5]*R_DhaT + x[4+n_compounds_cell] - x[4]                  #microcompartment equation for P\n",
    "    d[5] =   alpha_list[8]*R_IcdE + x[5+n_compounds_cell] - x[5]               #microcompartment equation for A\n",
    "    d[6] = - alpha_list[9]*R_IcdE + x[6+n_compounds_cell] - x[6]                  #microcompartment equation for I\n",
    "\n",
    "    \n",
    "    ####################################################################################\n",
    "    ##################################### boundary of MCP ##############################\n",
    "    ####################################################################################\n",
    "\n",
    "    M = M_mcp\n",
    "    for i in range(7,12):        \n",
    "        first_coef =  t0*(3**(4./3.))*(D/(DeltaM)**2)*((((M + 0.5*DeltaM)**4.)**(1./3.)) \n",
    "                                                    + (((M - 0.5*DeltaM)**4.)**(1./3.)))\n",
    "        second_coef = t0*(perm_mcp*(((M - 0.5*DeltaM)**4.)**(1./3.))*3**(2./3.))/(DeltaM*M_mcp**(2/3))\n",
    "\n",
    "        # BC at MCP for the ith compound in the cell \n",
    "        d[i] = first_coef*(x[i+n_compounds_cell]-x[i]) - second_coef*(x[i] - x[i-n_compounds_cell]) \n",
    "\n",
    "\n",
    "    ####################################################################################\n",
    "    ##################################### interior of cell #############################\n",
    "    ####################################################################################\n",
    "\n",
    "    for k in range(2,(ngrid+1)): \n",
    "        start_ind = 7 + (k-1)*n_compounds_cell\n",
    "        end_ind =  7 + k*n_compounds_cell\n",
    "        M += DeltaM # updated M\n",
    "        #cell equations for ith compound in the cell \n",
    "        for i in range(start_ind,end_ind):\n",
    "            coef = t0*((3**(4./3.))*D/(DeltaM)**2)\n",
    "            d[i] = coef*((((M + 0.5*DeltaM)**4.)**(1./3.))*(x[i+n_compounds_cell]-x[i]) \n",
    "                         - (((M - 0.5*DeltaM)**4.)**(1./3.))*(x[i]-x[i-n_compounds_cell]))\n",
    "\n",
    "    ####################################################################################\n",
    "    ###################### boundary of cell with external volume #######################\n",
    "    ####################################################################################\n",
    "\n",
    "    M = M_cell\n",
    "    \n",
    "    first_coef = t0*(3**(4./3.))*(D/(DeltaM)**2)*((((M + 0.5*DeltaM)**4)**(1/3.)) \n",
    "                                                  + (((M - 0.5*DeltaM)**4)**(1/3.)))\n",
    "    second_coef = t0*(perm_cell*(((M + 0.5*DeltaM)**4)**(1/3.))*3**(2./3.))/(DeltaM*M_cell**(2/3))\n",
    "       \n",
    "\n",
    "\n",
    "    for i in reversed(range(-6,-11,-1)):\n",
    "        # BC at ext volume for the ith compound in the cell \n",
    "        d[i] = first_coef*(x[i-n_compounds_cell] - x[i]) - second_coef*(x[i] - x[i+n_compounds_cell])\n",
    "        \n",
    "\n",
    "    #####################################################################################\n",
    "    ######################### external volume equations #################################\n",
    "    #####################################################################################\n",
    "    \n",
    "    for i in reversed(range(-1,-6,-1)):\n",
    "        d[i] = t0*(3*perm_cell/r_cell)*(x[i - n_compounds_cell] - x[i])/(Vratio) #external equation for concentration\n",
    "    \n",
    "    return d"
   ]
  },
  {
   "cell_type": "code",
   "execution_count": 6,
   "metadata": {},
   "outputs": [],
   "source": [
    "SDerivParameterized = lambda t,x: SDeriv(t,x,param_list)\n",
    "\n",
    "x_list_sp = np.array(sp.symbols('x:' + str( 5*(2+(ngrid)) + 2)))\n",
    "SDerivSymbolic = SDeriv(0,x_list_sp,param_list)\n",
    "SDerivGrad = sp.Matrix(SDerivSymbolic).jacobian(x_list_sp)\n",
    "SDerivGradFun = sp.lambdify(x_list_sp, SDerivGrad, 'numpy')\n",
    "SDerivGradFunSparse = lambda t,x: sparse.csr_matrix(SDerivGradFun(*x))"
   ]
  },
  {
   "cell_type": "code",
   "execution_count": 9,
   "metadata": {},
   "outputs": [
    {
     "data": {
      "text/plain": [
       "[0.0,\n",
       " 0.0,\n",
       " 0.0,\n",
       " 0.0,\n",
       " 0.0,\n",
       " 0.0,\n",
       " 0.0,\n",
       " 0.0,\n",
       " 0.0,\n",
       " 0.0,\n",
       " 0.0,\n",
       " 0.0,\n",
       " 0.0,\n",
       " 0.0,\n",
       " 0.0,\n",
       " 0.0,\n",
       " 0.0,\n",
       " 0.0,\n",
       " 0.0,\n",
       " 0.0,\n",
       " 0.0,\n",
       " 0.0,\n",
       " 0.0,\n",
       " 0.0,\n",
       " 0.0,\n",
       " 0.0,\n",
       " 0.0,\n",
       " 0.0,\n",
       " 0.0,\n",
       " 0.0,\n",
       " 0.0,\n",
       " 0.0,\n",
       " 0.0,\n",
       " 0.0,\n",
       " 0.0,\n",
       " 0.0,\n",
       " 0.0,\n",
       " 0.0,\n",
       " 0.0,\n",
       " 0.0,\n",
       " 0.0,\n",
       " 0.0,\n",
       " 0.0,\n",
       " 0.0,\n",
       " 0.0,\n",
       " 0.0,\n",
       " 0.0,\n",
       " 0.0,\n",
       " 0.0,\n",
       " 0.0,\n",
       " 0.0,\n",
       " 0.0,\n",
       " 0.0,\n",
       " 0.0,\n",
       " 0.0,\n",
       " 0.0,\n",
       " 0.0,\n",
       " 0.0,\n",
       " 0.0,\n",
       " 0.0,\n",
       " 0.0,\n",
       " 0.0,\n",
       " 0.0,\n",
       " 0.0,\n",
       " 0.0,\n",
       " 0.0,\n",
       " 0.0,\n",
       " 0.0,\n",
       " 0.0,\n",
       " 0.0,\n",
       " 0.0,\n",
       " 0.0,\n",
       " 0.0,\n",
       " 0.0,\n",
       " 0.0,\n",
       " 0.0,\n",
       " 0.0,\n",
       " 0.0,\n",
       " 0.0,\n",
       " 0.0,\n",
       " 0.0,\n",
       " 0.0,\n",
       " 0.0,\n",
       " 0.0,\n",
       " 0.0,\n",
       " 0.0,\n",
       " 0.0,\n",
       " 0.0,\n",
       " 0.0,\n",
       " 0.0,\n",
       " 0.0,\n",
       " 0.0,\n",
       " 0.0,\n",
       " 0.0,\n",
       " 0.0,\n",
       " 0.0,\n",
       " 0.0,\n",
       " 0.0,\n",
       " 0.0,\n",
       " 0.0,\n",
       " 0.0,\n",
       " 0.0,\n",
       " 0.0,\n",
       " 0.0,\n",
       " 0.0,\n",
       " 0.0,\n",
       " 0.0,\n",
       " 0.0,\n",
       " 0.0,\n",
       " 0.0,\n",
       " 0.0,\n",
       " 0.0,\n",
       " 0.0,\n",
       " 0.0,\n",
       " 0.0,\n",
       " 0.0,\n",
       " 0.0,\n",
       " 0.0,\n",
       " 0.0,\n",
       " 0.0,\n",
       " 0.0,\n",
       " 0.0,\n",
       " 0.0,\n",
       " 0.0,\n",
       " 0.0,\n",
       " 0.0,\n",
       " 0.0,\n",
       " 46.566853874444334,\n",
       " 0.0,\n",
       " 0.0,\n",
       " 0.0,\n",
       " 232.83426937222166,\n",
       " -0.18000000000000002,\n",
       " 0.0,\n",
       " 0.0,\n",
       " 0.0,\n",
       " -0.9000000000000001]"
      ]
     },
     "execution_count": 9,
     "metadata": {},
     "output_type": "execute_result"
    }
   ],
   "source": [
    "SDerivParameterized(0,y0)"
   ]
  },
  {
   "cell_type": "code",
   "execution_count": 296,
   "metadata": {},
   "outputs": [],
   "source": [
    "# time samples\n",
    "fintime = 1e4\n",
    "tol = 1e-11\n",
    "nsamples = int(1e3)\n",
    "timeorig = np.linspace(0,fintime,nsamples)\n",
    "\n",
    "# terminal event\n",
    "event = lambda t,y: np.absolute(SDerivParameterized(t,y)[-1]) - tol\n",
    "event.terminal = True\n",
    "\n",
    "\n",
    "sol = solve_ivp(SDerivParameterized,[0, fintime], y0, method=\"BDF\",jac=SDerivGradFunSparse, events = event,\n",
    "                t_eval=timeorig, atol=1.0e-12,rtol=1.0e-12)"
   ]
  },
  {
   "cell_type": "code",
   "execution_count": 297,
   "metadata": {},
   "outputs": [
    {
     "data": {
      "text/plain": [
       "'The solver successfully reached the end of the integration interval.'"
      ]
     },
     "execution_count": 297,
     "metadata": {},
     "output_type": "execute_result"
    }
   ],
   "source": [
    "sol.message"
   ]
  },
  {
   "cell_type": "code",
   "execution_count": 298,
   "metadata": {},
   "outputs": [
    {
     "data": {
      "image/png": "[encoded data removed]",
      "text/plain": [
       "<Figure size 432x288 with 1 Axes>"
      ]
     },
     "metadata": {
      "needs_background": "light"
     },
     "output_type": "display_data"
    }
   ],
   "source": [
    "%matplotlib inline\n",
    "plt.plot(sol.t,sol.y[-5:,:].T)\n",
    "plt.legend(['G','H','P','A','I'],loc='upper right')\n",
    "#filename = \"VfDhaB_\"+str(VfDhaB)+\"_KmDhaBG_\" + str(KmDhaBG) + \"_KiDhaBH_\" + str(KiDhaBH) + \"_VfIcdE_\"  + str(VfIcdE) + \"_KmIcdEA_\" + str(KmIcdEA) + \"_KmIcdEN_\" + str(KmIcdEN) + \"_KiIcdED_\" + str(KiIcdED) + \"_KiIcdEI_\" + str(KiIcdEI) + \"_GInit_\" + str(GInit) + \"_NInit_\" + \"_GInit_\" + str(GInit) + \"_NInit_\" + str(NInit) + \"_DInit_\" + str(DInit) + \"_AInit_\" + str(AInit)\n",
    "#plt.savefig('/Users/aarcher/PycharmProjects/MCP/WholeCell/plots/ScipyCode_' + filename + '.png')\n",
    "plt.show()"
   ]
  },
  {
   "cell_type": "code",
   "execution_count": 301,
   "metadata": {},
   "outputs": [
    {
     "data": {
      "image/png": "[encoded data removed]",
      "text/plain": [
       "<Figure size 432x288 with 1 Axes>"
      ]
     },
     "metadata": {
      "needs_background": "light"
     },
     "output_type": "display_data"
    }
   ],
   "source": [
    "%matplotlib inline\n",
    "plt.plot(sol.t,sol.y[:7,:].T)\n",
    "plt.legend(['N','D','G','H','P','A','I'],loc='upper right')\n",
    "#filename = \"VfDhaB_\"+str(VfDhaB)+\"_KmDhaBG_\" + str(KmDhaBG) + \"_KiDhaBH_\" + str(KiDhaBH) + \"_VfIcdE_\"  + str(VfIcdE) + \"_KmIcdEA_\" + str(KmIcdEA) + \"_KmIcdEN_\" + str(KmIcdEN) + \"_KiIcdED_\" + str(KiIcdED) + \"_KiIcdEI_\" + str(KiIcdEI) + \"_GInit_\" + str(GInit) + \"_NInit_\" + \"_GInit_\" + str(GInit) + \"_NInit_\" + str(NInit) + \"_DInit_\" + str(DInit) + \"_AInit_\" + str(AInit)\n",
    "#plt.savefig('/Users/aarcher/PycharmProjects/MCP/WholeCell/plots/ScipyCode_' + filename + '.png')\n",
    "plt.show()"
   ]
  },
  {
   "cell_type": "code",
   "execution_count": 302,
   "metadata": {},
   "outputs": [
    {
     "data": {
      "image/png": "[encoded data removed]",
      "text/plain": [
       "<Figure size 432x288 with 1 Axes>"
      ]
     },
     "metadata": {
      "needs_background": "light"
     },
     "output_type": "display_data"
    }
   ],
   "source": [
    "%matplotlib inline\n",
    "plt.plot(sol.t,sol.y[1:6,:].T)\n",
    "plt.legend(['D','G','H','P','A'],loc='upper right')\n",
    "#filename = \"VfDhaB_\"+str(VfDhaB)+\"_KmDhaBG_\" + str(KmDhaBG) + \"_KiDhaBH_\" + str(KiDhaBH) + \"_VfIcdE_\"  + str(VfIcdE) + \"_KmIcdEA_\" + str(KmIcdEA) + \"_KmIcdEN_\" + str(KmIcdEN) + \"_KiIcdED_\" + str(KiIcdED) + \"_KiIcdEI_\" + str(KiIcdEI) + \"_GInit_\" + str(GInit) + \"_NInit_\" + \"_GInit_\" + str(GInit) + \"_NInit_\" + str(NInit) + \"_DInit_\" + str(DInit) + \"_AInit_\" + str(AInit)\n",
    "#plt.savefig('/Users/aarcher/PycharmProjects/MCP/WholeCell/plots/ScipyCode_' + filename + '.png')\n",
    "plt.show()"
   ]
  },
  {
   "cell_type": "markdown",
   "metadata": {},
   "source": [
    "### Compute concentration statistics:\n",
    "- compute area under the curve of P"
   ]
  },
  {
   "cell_type": "code",
   "execution_count": 267,
   "metadata": {},
   "outputs": [
    {
     "data": {
      "text/plain": [
       "554667.1831240703"
      ]
     },
     "execution_count": 267,
     "metadata": {},
     "output_type": "execute_result"
    }
   ],
   "source": [
    "auc(sol.t,sol.y[-3,:].T)"
   ]
  },
  {
   "cell_type": "markdown",
   "metadata": {},
   "source": [
    "- steady state flux of $P_{\\text{cell}}$ at the cell boundary"
   ]
  },
  {
   "cell_type": "code",
   "execution_count": 268,
   "metadata": {},
   "outputs": [
    {
     "data": {
      "text/plain": [
       "array([ 3.57157734e-11,  2.27274874e-03, -1.22955878e-04, -2.14979287e-03,\n",
       "       -2.15051306e-03])"
      ]
     },
     "execution_count": 268,
     "metadata": {},
     "output_type": "execute_result"
    }
   ],
   "source": [
    "# flux of all compounds\n",
    "4*math.pi*(r_cell**2)*(sol.y[-6:-1,-1] - sol.y[(-6-n_compounds_cell):(-1-n_compounds_cell),-1])"
   ]
  },
  {
   "cell_type": "code",
   "execution_count": 269,
   "metadata": {},
   "outputs": [
    {
     "data": {
      "text/plain": [
       "-0.0021497928711628643"
      ]
     },
     "execution_count": 269,
     "metadata": {},
     "output_type": "execute_result"
    }
   ],
   "source": [
    "4*math.pi*(r_cell**2)*(sol.y[-3,-1] - sol.y[-3-n_compounds_cell,-1])"
   ]
  },
  {
   "cell_type": "markdown",
   "metadata": {},
   "source": [
    "- steady state flux of $P_{\\text{mcp}}$ at MCP"
   ]
  },
  {
   "cell_type": "code",
   "execution_count": 270,
   "metadata": {},
   "outputs": [
    {
     "data": {
      "text/plain": [
       "array([-2.14558397e-04,  1.13827911e-05,  2.03175606e-04,  2.03243720e-04,\n",
       "       -2.03243716e-04])"
      ]
     },
     "execution_count": 270,
     "metadata": {},
     "output_type": "execute_result"
    }
   ],
   "source": [
    "# flux of all compounds\n",
    "4*math.pi*(r_cell**2)*perm_mcp*(sol.y[2:7,-1] - sol.y[7:(7+n_compounds_cell),-1])"
   ]
  },
  {
   "cell_type": "code",
   "execution_count": 271,
   "metadata": {},
   "outputs": [
    {
     "data": {
      "text/plain": [
       "0.00020317560593665786"
      ]
     },
     "execution_count": 271,
     "metadata": {},
     "output_type": "execute_result"
    }
   ],
   "source": [
    "4*math.pi*(r_cell**2)*perm_mcp*(sol.y[4,-1] - sol.y[4+n_compounds_cell,-1])"
   ]
  },
  {
   "cell_type": "markdown",
   "metadata": {},
   "source": [
    "- steady state concentration of $P_{\\text{ext}}$"
   ]
  },
  {
   "cell_type": "code",
   "execution_count": 272,
   "metadata": {},
   "outputs": [
    {
     "data": {
      "text/plain": [
       "59.92487297092216"
      ]
     },
     "execution_count": 272,
     "metadata": {},
     "output_type": "execute_result"
    }
   ],
   "source": [
    "sol.y[-3,-1]"
   ]
  },
  {
   "cell_type": "markdown",
   "metadata": {},
   "source": [
    "## Stiff Solver"
   ]
  },
  {
   "cell_type": "code",
   "execution_count": null,
   "metadata": {},
   "outputs": [],
   "source": [
    "import sympy as sp\n",
    "import scipy.sparse as sparse\n",
    "import time\n",
    "from numpy.linalg import LinAlgError"
   ]
  },
  {
   "cell_type": "code",
   "execution_count": null,
   "metadata": {},
   "outputs": [],
   "source": [
    "def newton(f, x0, fprime, full_output=True, conv_tol =1e-5, root_tol = 1e-5, max_iters=5,output_level=0):\n",
    "    # initialize parameters\n",
    "    converged = False\n",
    "    xn = x0\n",
    "    iters = 0 \n",
    "    status = -99\n",
    "    \n",
    "    \n",
    "\n",
    "    #initialize function\n",
    "    fn = f(xn)\n",
    "    norm_f = np.max(np.absolute(fn))\n",
    "    diff_x = np.max(np.absolute(xn - x0))\n",
    "    gradn = fprime(xn)\n",
    "    \n",
    "    #print statement\n",
    "    if output_level >= 2:\n",
    "        output_header = '%6s %9s %9s' % ('iter', '||f||_1', '||x_n-x_0||_1')\n",
    "        print(output_header)\n",
    "        print('%6i %9.2e %9.2e' % (iters, norm_f, diff_x))\n",
    "        \n",
    "    while 1:\n",
    "        ###########################################\n",
    "        ########### Convergence Checks ############\n",
    "        ###########################################\n",
    "        if iters > 0 and diff_x < root_tol:\n",
    "            status = 1\n",
    "            converged = True\n",
    "            break\n",
    "\n",
    "        if norm_f < conv_tol:\n",
    "            status = 0\n",
    "            converged = True\n",
    "            break\n",
    "\n",
    "        if iters >= max_iters:\n",
    "            status = -1\n",
    "            break\n",
    "            \n",
    "        ###########################################\n",
    "        ############## Newton step ################\n",
    "        ###########################################\n",
    "        \n",
    "        try:\n",
    "            delta = sparse.linalg.spsolve(gradn,fn)\n",
    "            xn = xn - delta\n",
    "            iters += 1\n",
    "        except LinAlgError:\n",
    "            status = -2\n",
    "            break\n",
    "            \n",
    "        #update difference in x\n",
    "        diff_x = np.max(np.absolute(xn - x0))\n",
    "        #update function\n",
    "        fn = f(xn)\n",
    "        norm_f = np.max(np.absolute(fn))\n",
    "        \n",
    "        # print statement\n",
    "        if output_level >= 2 and iters % 100 == 0:\n",
    "            output_header = '%6s %9s %9s' % ('iter', '||f||_1', '||x_n-x_0||_1')\n",
    "            print(output_header)\n",
    "            \n",
    "        if output_level >= 2 and iters % 10 ==0:\n",
    "            print('%6i %9.2e %9.2e' % (iters, norm_f, diff_x))\n",
    "    \n",
    "    if output_level >= 1:\n",
    "        print('')\n",
    "        print('||f||_1 at final point...............: %g' % norm_f)\n",
    "        print('||x_n-x_0||_1 at final point.........: %g' % diff_x)\n",
    "        print('Number of iterations.................: %d' % iters)\n",
    "        print('')\n",
    "\n",
    "        if status == 1:\n",
    "            print('Exit: Critical point found since ||x_n-x0||_1 is less than tolerance.')\n",
    "        elif status == 0:\n",
    "            print('Exit: Critical point found since ||f(x_n)||_1 is less than tolerance.')\n",
    "        elif status == -1:\n",
    "            print('Exit: Maximum number of iterations (%d) exceeded.' %\n",
    "                  iters)\n",
    "        elif status == -2:\n",
    "            print('Exit: Singular jacobian matrix.')\n",
    "        else:\n",
    "            print('ERROR: Unknown status value: %d\\n' % status)\n",
    "\n",
    "    if full_output==True:\n",
    "        return [converged, xn]\n",
    "    else:\n",
    "        return xn"
   ]
  },
  {
   "cell_type": "code",
   "execution_count": null,
   "metadata": {},
   "outputs": [],
   "source": [
    "class BDF:\n",
    "    def __init__(self,rhs, y0, tspan, devrhs = None, order = 2, dt = 1e-2, max_dt = 1.0, min_dt = 1e-7, dt_cut = 2, \n",
    "                 dt_raise=2, abstol=1e-6,reltol=1e-6, devtol = 1e-5, maxtime = 5.*60.):\n",
    "        '''\n",
    "        Initialization of multistep BDF scheme object\n",
    "        Args:\n",
    "            rhs: right hand side of the differential equation\n",
    "            y0 : initial conditions \n",
    "            tspan: time interval of integration. A list of two vectors.\n",
    "            devrhs: derivative of the rhs wrt to state vectors\n",
    "            dt: initial time step\n",
    "            max_dt: maximum time step\n",
    "            min_dt: minimum time step\n",
    "            dt_cut: factor to reduce time step. If non-adaptive set, dt_cut = 1.0\n",
    "            dt_raise: factor to increase time step. If non-adaptive set, dt_raise = 1.0\n",
    "            abstol: absolute error tolerance\n",
    "            reltol: relative error tolerance\n",
    "            devtol: tolerance of the derivative to be 0\n",
    "            maxtime: maximum time to run the program\n",
    "        '''\n",
    "        self.rhs = rhs\n",
    "        self.y0 = y0\n",
    "        self.t0 = tspan[0]\n",
    "        self.devrhs = devrhs\n",
    "        self.order = order\n",
    "        self.tspan = tspan\n",
    "        self.dt = dt\n",
    "        self.max_dt = max_dt\n",
    "        self.min_dt = min_dt\n",
    "        self.dt_cut = dt_cut\n",
    "        self.dt_raise = dt_raise\n",
    "        self.abstol = abstol\n",
    "        self.reltol = reltol\n",
    "        self.devtol = devtol\n",
    "        self.maxtime = maxtime\n",
    "        \n",
    "        \n",
    "    def step(self,t,*argv):\n",
    "        '''\n",
    "        Multistep backwards differentiation\n",
    "        \n",
    "        Args: \n",
    "            t: current time of the time interval\n",
    "            argv[0]: current state vector, y_n\n",
    "            argv[1]: previous state vector, y_n-1\n",
    "            argv[2]: 2nd previous state vector, y_n-2\n",
    "        '''\n",
    "        yvals = {}\n",
    "        for i,arg in enumerate(argv): \n",
    "            if i == 0:\n",
    "                yvals[\"y_\"+str(i)] = arg\n",
    "            else:\n",
    "                yvals[\"y_-\"+str(i)] = arg\n",
    "\n",
    "        if len(argv) == 1:\n",
    "            #BDF-1 \n",
    "            numeric_scheme = lambda y_next: y_next - yvals[\"y_0\"] - self.dt*self.rhs(t,y_next)\n",
    "            df = lambda y_next: sparse.identity(len(yvals[\"y_0\"])) - self.dt*self.devrhs(t,y_next)\n",
    "            iter_sol = newton(numeric_scheme, yvals[\"y_0\"], fprime = df, full_output=True)\n",
    "        elif len(argv) == 2:\n",
    "            #BDF-2\n",
    "            numeric_scheme = lambda y_next: y_next - (4./3.)*yvals[\"y_0\"] + (1./3.)*yvals[\"y_-1\"] - self.dt*(2./3.)*self.rhs(t,y_next)\n",
    "            df = lambda y_next: sparse.identity(len(yvals[\"y_0\"])) - self.dt*(2./3.)*self.devrhs(t,y_next)\n",
    "            iter_sol = newton(numeric_scheme, yvals[\"y_0\"], fprime = df, full_output=True)\n",
    "        elif len(argv) == 3:\n",
    "            #BDF-3\n",
    "            numeric_scheme = lambda y_next: y_next - (18./11.)*yvals[\"y_0\"] + (9./11.)*yvals[\"y_-1\"] - (2./11.)*yvals[\"y_-2\"] - self.dt*(6./11.)*self.rhs(t,y_next)\n",
    "            df = lambda y_next: sparse.identity(len(yvals[\"y_0\"])) - self.dt*(6./11.)*self.devrhs(t,y_next)\n",
    "            iter_sol = newton(numeric_scheme, yvals[\"y_0\"], fprime = df, full_output=True)\n",
    "        elif len(argv) == 4:\n",
    "            #BDF-4 -- this is unstable\n",
    "            numeric_scheme = lambda y_next: y_next - 4.*(12./25.)*yvals[\"y_0\"] + 3.*(12./25.)*yvals[\"y_-1\"] - (4./3.)*(12./25.)*yvals[\"y_-2\"] + (1./4.)*(12./25.)*yvals[\"y_-3\"] - self.dt*(12./25.)*self.rhs(t,y_next)\n",
    "            df = lambda y_next: sparse.identity(len(yvals[\"y_0\"])) - self.dt*(12./25.)*self.devrhs(t,y_next)\n",
    "            iter_sol = newton(numeric_scheme, yvals[\"y_0\"], fprime = df, full_output=True)\n",
    "        elif len(argv) == 5:\n",
    "            #BDF-5 -- this is unstable\n",
    "            numeric_scheme = lambda y_next: y_next - 5.*(60./137.)*yvals[\"y_0\"] + 5.*(60./137.)*yvals[\"y_-1\"] - (10./3.)*(60./137.)*yvals[\"y_-2\"] + (5./4.)*(60./137.)*yvals[\"y_-3\"] - (1./5.)*(60./137.)*yvals[\"y_-4\"] - self.dt*(60./137.)*self.rhs(t,y_next)\n",
    "            df = lambda y_next: sparse.identity(len(yvals[\"y_0\"])) - self.dt*(60./137.)*self.devrhs(t,y_next)\n",
    "            iter_sol = newton(numeric_scheme, yvals[\"y_0\"], fprime = df, full_output=True)\n",
    "\n",
    "        return [iter_sol[0], iter_sol[1]]\n",
    "    \n",
    "    \n",
    "    def initialize(self,h=1e-12):\n",
    "        '''\n",
    "        Generate order-1 entries for a multistep BDF scheme using RK4\n",
    "        Args:\n",
    "            order: order of the BDF scheme\n",
    "            h: stepsize for RK4. Note -- take h small so as to not affect the \n",
    "               order and error of the BDF scheme to be ran\n",
    "        \n",
    "        '''\n",
    "        order = self.order \n",
    "        while(len(self.t) < order):\n",
    "            y = self.y[-1]\n",
    "            t = self.t[-1]\n",
    "            \n",
    "            # take a step Rk4 step \n",
    "            \n",
    "            k1 = self.rhs(t,y)\n",
    "            k2 = self.rhs(t + h/2., y + k1*h/2.)\n",
    "            k3 = self.rhs(t + h/2., y + k2*h/2.)\n",
    "            k4 = self.rhs(t + h, y + k3*h)\n",
    "            \n",
    "            ynew = y + (k1 + 2.*k2 + 2.*k3 + k4)*h/6.\n",
    "            tnew = t + h\n",
    "            \n",
    "            # store step\n",
    "            \n",
    "            (self.y).append(ynew)\n",
    "            (self.t).append(tnew)\n",
    "            \n",
    "            \n",
    "            \n",
    "    def integrate(self,initalize_h =1e-100):\n",
    "        \n",
    "        self.y = [self.y0]\n",
    "        self.t = [self.t0]\n",
    "        \n",
    "        # parameters for integration\n",
    "        order = self.order\n",
    "        dt = self.dt\n",
    "        min_dt = self.min_dt\n",
    "        max_dt = self.max_dt\n",
    "        dt_cut = self.dt_cut\n",
    "        dt_raise = self.dt_raise\n",
    "        tspan = self.tspan\n",
    "        devtol = self.devtol\n",
    "        maxtime = self.maxtime\n",
    "        reltol = self.reltol\n",
    "        abstol = self.abstol\n",
    "        \n",
    "        status = -99\n",
    "        \n",
    "        output_header = '{}' .format('    t     \\t     dt     \\t ||slope||_1 \\t time')\n",
    "        print(output_header)\n",
    "        print('%3.4e \\t %3.4e  \\t %3.4e \\t %9.4e' % (self.t[-1], self.dt, 0.0, 0.0))\n",
    "        # initialize with RK45\n",
    "        if order > 1:\n",
    "            self.initialize(initalize_h)\n",
    "            \n",
    "        ##################################\n",
    "        ########### Begin Loop ###########\n",
    "        ##################################\n",
    "        \n",
    "        # start time\n",
    "        start_time = time.time()\n",
    "        \n",
    "        \n",
    "        while 1:\n",
    "\n",
    "            # compute time of loop\n",
    "            current_time = time.time()\n",
    "            total_time = current_time - start_time\n",
    "            maxgrad = np.max(np.absolute(self.rhs(self.t[-1],self.y[-1])))\n",
    "            # reset dt\n",
    "            if dt > max_dt:\n",
    "                dt = max_dt\n",
    "                self.dt = dt\n",
    "            \n",
    "            # potential new time\n",
    "            tnew = self.t[-1] + dt\n",
    "            \n",
    "            if tnew > tspan[-1]:\n",
    "                dt = tspan[-1] - self.t[-1]\n",
    "                self.dt = dt\n",
    "                tnew = self.t[-1] + dt\n",
    "            #########################################\n",
    "            ############ Break Conditions ###########\n",
    "            #########################################\n",
    "            \n",
    "            \n",
    "            if not (self.t[-1] < tspan[-1]):\n",
    "                # end of interval\n",
    "                status = 0\n",
    "                break\n",
    "                \n",
    "            if dt < min_dt:\n",
    "                #step size too small\n",
    "                status = -1\n",
    "                break\n",
    "                \n",
    "            if maxgrad < devtol:\n",
    "                # 1-norm of derivative too small\n",
    "                status = -2\n",
    "                break \n",
    "            \n",
    "            if total_time > maxtime:\n",
    "                # time of the program exceeded\n",
    "                status = -3\n",
    "                break\n",
    "            \n",
    "            ##########################################\n",
    "            ############## Take Time Step ############\n",
    "            ##########################################\n",
    "            \n",
    "\n",
    "            # take a step\n",
    "            yns = self.y[-order:] # get the last \"order\" vectors\n",
    "            yns = yns[::-1] # reverse the order of the vectors\n",
    "            iter_converged,ynew = self.step(self.t[-1],*yns)\n",
    "            \n",
    "            if len(self.t) % 100 == 0:\n",
    "                print(output_header)\n",
    "            \n",
    "            if len(self.t) % 10 == 0:\n",
    "                print('%3.4e \\t %3.4e  \\t %3.4e \\t %9.4e' % (self.t[-1], self.dt, maxgrad, total_time))\n",
    "                \n",
    "            ###########################################\n",
    "            ###### Error and Convergence Checks #######\n",
    "            ###########################################\n",
    "            \n",
    "            abs_error = np.absolute(ynew  - self.y[-1])\n",
    "            \n",
    "\n",
    "            # check convergence, error\n",
    "            #if (not iter_converged) | np.any(ynew < 0) | np.any(abs_error > abstol):\n",
    "            #    dt/= dt_cut\n",
    "            #    self.dt = dt\n",
    "            #else:\n",
    "            #    dt *= dt_raise\n",
    "            #    self.dt = dt\n",
    "            #    (self.t).append(tnew)\n",
    "            #    (self.y).append(ynew)\n",
    "            (self.t).append(tnew)  \n",
    "            (self.y).append(ynew)\n",
    "            ###########################################\n",
    "            ############ Print Statements #############\n",
    "            ###########################################\n",
    "            \n",
    "\n",
    "            \n",
    "        ##################################\n",
    "        ############ End Loop ############\n",
    "        ##################################\n",
    "\n",
    "        ##################################\n",
    "        ######## Finalize results ########\n",
    "        ##################################\n",
    "        \n",
    "        print(output_header)\n",
    "        print('%3.4e \\t %3.4e  \\t %3.4e \\t %9.4e' % (self.t[-1], self.dt, maxgrad, total_time))\n",
    "\n",
    "        print('')\n",
    "        print('Status ..................................................: %d' % status)\n",
    "        print('Final time...............................................: %g' % self.t[-1])\n",
    "        print('Time of loop.............................................: %g' % total_time)\n",
    "        print('Maximum slope............................................: %g' % maxgrad)\n",
    "        print('')\n",
    "\n",
    "        if status == 0:\n",
    "            print('Exit: Intergration Success.')\n",
    "        elif status == -1:\n",
    "            print('Exit: Step size, ' + '{:.2E}'.format(dt) + ', is smaller than smallest allowed step-size.')\n",
    "        elif status == -2:\n",
    "            print('Exit: Steady state reached.')\n",
    "        elif status == -3:\n",
    "            print('Exit: Integration is taking too long, %3.4e seconds.' % total_time)\n",
    "        else:\n",
    "            print('ERROR: Unknown status value: %d\\n' % status)\n",
    "        return [status,np.array(self.t),np.array(self.y)]\n",
    "    \n",
    "    "
   ]
  },
  {
   "cell_type": "code",
   "execution_count": null,
   "metadata": {},
   "outputs": [],
   "source": [
    "x_list_sp = np.array(sp.symbols('x:' + str( 5*(2+(ngrid)) + 2)))\n",
    "SDerivSymbolic = SDeriv(0,x_list_sp,param_list)\n",
    "SDerivGrad = sp.Matrix(SDerivSymbolic).jacobian(x_list_sp)\n",
    "SDerivGradFun = sp.lambdify(x_list_sp, SDerivGrad, 'numpy')\n",
    "SDerivGradFunSparse = lambda t,x: sparse.csr_matrix(SDerivGradFun(*x))\n",
    "SDerivParameterized = lambda t,x: np.array(SDeriv(t,x,param_list))"
   ]
  },
  {
   "cell_type": "code",
   "execution_count": null,
   "metadata": {},
   "outputs": [],
   "source": [
    "bdf=BDF(SDerivParameterized, y0, [0,1e7], devrhs = SDerivGradFunSparse, dt = 1, min_dt=1e-30, max_dt = 1e8,abstol=10.,order=3,maxtime = 5.*60.)\n",
    "[status,t,y] = bdf.integrate()\n",
    "status"
   ]
  },
  {
   "cell_type": "code",
   "execution_count": null,
   "metadata": {},
   "outputs": [],
   "source": [
    "%matplotlib inline\n",
    "plt.plot(bdf.t,np.array(bdf.y)[:,-5:])\n",
    "plt.legend(['G','H','P','A','I'],loc='upper right')\n",
    "#filename = \"VfDhaB_\"+str(VfDhaB)+\"_KmDhaBG_\" + str(KmDhaBG) + \"_KiDhaBH_\" + str(KiDhaBH) + \"_VfIcdE_\"  + str(VfIcdE) + \"_KmIcdEA_\" + str(KmIcdEA) + \"_KmIcdEN_\" + str(KmIcdEN) + \"_KiIcdED_\" + str(KiIcdED) + \"_KiIcdEI_\" + str(KiIcdEI) + \"_GInit_\" + str(GInit) + \"_NInit_\" + \"_GInit_\" + str(GInit) + \"_NInit_\" + str(NInit) + \"_DInit_\" + str(DInit) + \"_AInit_\" + str(AInit)\n",
    "plt.savefig('/Users/aarcher/PycharmProjects/MCP/WholeCell/plots/AndreCode_ExternalDynamics.png')\n",
    "plt.show()"
   ]
  },
  {
   "cell_type": "code",
   "execution_count": null,
   "metadata": {},
   "outputs": [],
   "source": [
    "%matplotlib inline\n",
    "plt.plot(bdf.t,np.array(bdf.y)[:,:7])\n",
    "plt.legend(['N','D','G','H','P','A','I'],loc='upper right')\n",
    "filename = \"VfDhaB_\"+str(VfDhaB)+\"_KmDhaBG_\" + str(KmDhaBG) + \"_KiDhaBH_\" + str(KiDhaBH) + \"_VfIcdE_\"  + str(VfIcdE) + \"_KmIcdEA_\" + str(KmIcdEA) + \"_KmIcdEN_\" + str(KmIcdEN) + \"_KiIcdED_\" + str(KiIcdED) + \"_KiIcdEI_\" + str(KiIcdEI) + \"_GInit_\" + str(GInit) + \"_NInit_\" + \"_GInit_\" + str(GInit) + \"_NInit_\" + str(NInit) + \"_DInit_\" + str(DInit) + \"_AInit_\" + str(AInit)\n",
    "plt.savefig('/Users/aarcher/PycharmProjects/MCP/WholeCell/plots/AndreCode_MCPDynamics.png')\n",
    "plt.show()"
   ]
  },
  {
   "cell_type": "code",
   "execution_count": null,
   "metadata": {},
   "outputs": [],
   "source": [
    "plt.plot(bdf.t,np.array(bdf.y)[:,-3])\n",
    "plt.legend(['D','G','H','P','A','I'],loc='upper right')\n",
    "#plt.savefig('/Users/aarcher/PycharmProjects/MCP/WholeCell/plots/AndreCode_MCPDynamicsWithoutN.png')\n",
    "plt.show()"
   ]
  },
  {
   "cell_type": "markdown",
   "metadata": {},
   "source": [
    "## Local Sensitivity Analysis with Sensitivity Equations"
   ]
  },
  {
   "cell_type": "code",
   "execution_count": 343,
   "metadata": {},
   "outputs": [],
   "source": [
    "# parameter symbols\n",
    "params_sp = list(sp.symbols('alpha0:10'))\n",
    "params_sp.extend(sp.symbols('beta0:3'))\n",
    "params_sp.extend(sp.symbols('gamma:3'))\n",
    "\n",
    "params_sp.append(sp.symbols('km'))\n",
    "params_sp.append(sp.symbols('kc'))\n",
    "# initial conditions symbols\n",
    "params_sp.append(sp.symbols('GInit'))\n",
    "params_sp.append(sp.symbols('NInit'))\n",
    "params_sp.append(sp.symbols('DInit'))\n",
    "params_sp.append(sp.symbols('IInit'))\n",
    "\n",
    "# x variables\n",
    "x_list_sp = np.array(sp.symbols('x:' + str( 5*(2+(ngrid)) + 2)))\n",
    "\n",
    "nVars = len(x_list_sp)\n",
    "nParams = len(params_sp)\n",
    "nSensitivityEqs = nVars*nParams\n",
    "\n",
    "#senstivity variables\n",
    "sensitivityVars = np.array(list(sp.symbols('s0:' + str(nSensitivityEqs))))\n",
    "\n",
    "\n",
    "# Jacobian\n",
    "SDerivSymbolic = sp.Matrix(SDeriv(0,x_list_sp,params_sp))\n",
    "SDerivSymbolicJacParams = SDerivSymbolic.jacobian(params_sp) \n",
    "\n",
    "SDerivSymbolicJacConc = SDerivSymbolic.jacobian(x_list_sp) \n",
    "\n",
    "# senstivity equations\n",
    "ds = []\n",
    "for i in range(len(x_list_sp)):\n",
    "    for j in range(len(params_sp)):\n",
    "        ds.extend(np.dot(SDerivSymbolicJacConc[i,:],sensitivityVars[range(j,nSensitivityEqs,nParams)]) \n",
    "                  + SDerivSymbolicJacParams[i,j])\n"
   ]
  },
  {
   "cell_type": "code",
   "execution_count": 373,
   "metadata": {},
   "outputs": [],
   "source": [
    "# define sensitvity equations as a function\n",
    "dx = SDeriv(0,x_list_sp,params_sp)\n",
    "dxs = np.concatenate([dx,ds])\n",
    "dxs  = sp.Matrix(dxs)\n",
    "\n",
    "\n",
    "#function of parameters\n",
    "dxsFuncParams = sp.lambdify(params_sp, dxs)\n",
    "dxsVars = dxsFuncParams(*param_list)\n",
    "\n",
    "# function of state variables\n",
    "allvars = np.concatenate([x_copy,sensitivityVars])\n",
    "dxsVarsFunc =  sp.lambdify(allvars, dxsVars)\n",
    "dxsVarsFunctx = lambda t,xs: dxsVarsFunc(*xs)"
   ]
  },
  {
   "cell_type": "code",
   "execution_count": 363,
   "metadata": {},
   "outputs": [],
   "source": [
    "# initial conditions\n",
    "xs0 = np.concatenate([y0, np.zeros(nSensitivityEqs)])\n",
    "xs0[len(y0)] = 1\n",
    "xs0[len(y0)+1] = 1\n",
    "xs0[-5] = 1\n",
    "xs0[-1] = 1"
   ]
  },
  {
   "cell_type": "code",
   "execution_count": null,
   "metadata": {
    "scrolled": false
   },
   "outputs": [],
   "source": [
    "dxsVarsMat = sp.Matrix(dxsVars)\n",
    "allvars = np.concatenate([x_copy,sensitivityVars])\n",
    "#xsVars  = sp.Matrix(np.concatenate([x_copy,sensitivityVars]))\n",
    "dxsVarsMatJac = dxsVarsMat.jacobian(allvars)\n",
    "dxsVarsMatJacFunc = sp.lambdify(allvars,dxsVarsMatJac)\n",
    "dxsVarsMatJacFunctx = lambda t,xs: sparse.csr_matrix(dxsVarsMatJacFunc(*xs))"
   ]
  },
  {
   "cell_type": "code",
   "execution_count": null,
   "metadata": {},
   "outputs": [],
   "source": [
    "# time samples\n",
    "fintime = 1e4\n",
    "tol = 1e-11\n",
    "nsamples = int(1e2)\n",
    "timeorig = np.linspace(0,fintime,nsamples)\n",
    "\n",
    "# terminal event\n",
    "event = lambda t,xs: np.absolute(dxsVarsFunctx(t,xs)[len(x)-1]) - tol\n",
    "event.terminal = True\n",
    "\n",
    "\n",
    "sol = solve_ivp(dxsVarsFunctx,[0, fintime], xs0, method=\"BDF\", events = event,\n",
    "                t_eval=timeorig, atol=1.0e-12,rtol=1.0e-12)"
   ]
  },
  {
   "cell_type": "markdown",
   "metadata": {},
   "source": [
    "## Graphical Local Sensitivity Analysis"
   ]
  },
  {
   "cell_type": "code",
   "execution_count": null,
   "metadata": {},
   "outputs": [],
   "source": [
    "def model_IcdE(KmDhaBG,KiDhaBH,VfDhaB,KmIcdEN,KmIcdEA,KiIcdED,KiIcdEI,VfIcdE,NInit,DInit):\n",
    "    # state space and time scaling\n",
    "    G0 = KmDhaBG\n",
    "    H0 = KmDhaTH\n",
    "    N0 = KmDhaTN\n",
    "    P0 = KiDhaTP\n",
    "    D0 = KiIcdED\n",
    "    A0 = KmIcdEA\n",
    "    I0 = KiIcdEI\n",
    "    t0 = 3*r_mcp/perm_mcp\n",
    "\n",
    "    y0[-5] = SInit/G0 #y0[-5] gives the initial state of the external substrate. The /G0 turns the value into a dimensionless quantity\n",
    "    y0[5] = NInit/N0 #y0[-5] gives the initial state of the external substrate. The /G0 turns the value into a dimensionless quantity\n",
    "    y0[6] = DInit/D0 #y0[-5] gives the initial state of the external substrate. The /G0 turns the value into a dimensionless quantity\n",
    "\n",
    "    #non-dimensional parameters\n",
    "    alpha1 = t0*VfDhaB*(1-np.exp(DeltaGDhaB))/G0\n",
    "    alpha2 = t0*VfDhaB*(1-np.exp(DeltaGDhaB))/H0\n",
    "    alpha3 = t0*VfDhaT*(1-np.exp(DeltaGDhaT))/H0\n",
    "    alpha4 = t0*VfDhaT*(1-np.exp(DeltaGDhaT))/N0\n",
    "    alpha5 = t0*VfIcdE*KmDhaTN*(1-np.exp(DeltaGIcdE))/(N0*KmIcdEN)\n",
    "    alpha6 = t0*VfDhaT*(1-np.exp(DeltaGDhaT))/P0\n",
    "    alpha7 = t0*VfDhaT*(1-np.exp(DeltaGDhaT))/D0\n",
    "    alpha8 = t0*VfIcdE*KmDhaTN*(1-np.exp(DeltaGIcdE))/(D0*KmIcdEN)\n",
    "    alpha9 = t0*VfIcdE*KmDhaTN*(1-np.exp(DeltaGIcdE))/(I0*KmIcdEN)\n",
    "    alpha10 = t0*VfIcdE*KmDhaTN*(1-np.exp(DeltaGIcdE))/(A0*KmIcdEN)\n",
    "\n",
    "    beta1 = KmDhaTH/KiDhaBH\n",
    "    beta2 = KiIcdED/KiDhaTD\n",
    "    beta3 = KmDhaTN/KmIcdEN\n",
    "\n",
    "    SDev = rhs(KmDhaBG,KiDhaBH,VfDhaB,KmIcdEN,KmIcdEA,KiIcdED,KiIcdEI,VfIcdE)\n",
    "\n",
    "    sol = odeint(SDev, y0, timeorig)\n",
    "    \n",
    "    return sol[-1,-5]\n"
   ]
  },
  {
   "cell_type": "code",
   "execution_count": null,
   "metadata": {},
   "outputs": [],
   "source": [
    "problem = {\n",
    "    'num_vars': 10,\n",
    "    'names': ['KmDhaBG','KiDhaBH','VfDhaB','KmIcdEN','KmIcdEA','KiIcdED','KiIcdEI','VfIcdE','NInit','DInit'],\n",
    "    'bounds': np.repeat([[5,10]], 10,axis=0)\n",
    "}\n",
    "\n"
   ]
  },
  {
   "cell_type": "code",
   "execution_count": null,
   "metadata": {},
   "outputs": [],
   "source": [
    "param_values = saltelli.sample(problem, 2)"
   ]
  },
  {
   "cell_type": "code",
   "execution_count": null,
   "metadata": {},
   "outputs": [],
   "source": [
    "param_values.shape[0]"
   ]
  },
  {
   "cell_type": "code",
   "execution_count": null,
   "metadata": {},
   "outputs": [],
   "source": [
    "Y = np.zeros([param_values.shape[0]])\n",
    "\n",
    "for i, X in enumerate(param_values):\n",
    "    Y[i] = model_IcdE(*X)"
   ]
  },
  {
   "cell_type": "code",
   "execution_count": null,
   "metadata": {},
   "outputs": [],
   "source": [
    "sobol.analyze(problem, Y)"
   ]
  },
  {
   "cell_type": "code",
   "execution_count": null,
   "metadata": {},
   "outputs": [],
   "source": [
    "# manual local senstivity analysis\n",
    "\n",
    "test_vals = [1.0,10.0]\n",
    "\n",
    "for KmDhaBG in test_vals: #Km for G in G <--> H\n",
    "    for KiDhaBH in test_vals: #Km for H in G <--> H\n",
    "        for VfDhaB in test_vals: #Vf for G <--> H\n",
    "            for KmIcdEN in test_vals: #Km for N in N + A <--> I + D\n",
    "                for KmIcdEA in test_vals: #Km for A in N + A <--> I + D\n",
    "                    for KiIcdED in test_vals: #Ki for D in N + A <--> I + D\n",
    "                        for KiIcdEI in test_vals: #Ki for I in N + A <--> I + D\n",
    "                            for VfIcdE in test_vals: #Vf for N + A <--> I + D\n",
    "\n",
    "\n",
    "                                # state space and time scaling\n",
    "                                G0 = KmDhaBG\n",
    "                                H0 = KmDhaTH\n",
    "                                N0 = KmDhaTN\n",
    "                                P0 = KiDhaTP\n",
    "                                D0 = KiIcdED\n",
    "                                A0 = KmIcdEA\n",
    "                                I0 = KiIcdEI\n",
    "                                t0 = 3*r_mcp/perm_mcp\n",
    "\n",
    "                                y0[-5] = SInit/G0 #y0[-5] gives the initial state of the external substrate. The /G0 turns the value into a dimensionless quantity\n",
    "                                y0[5] = NInit/N0 #y0[-5] gives the initial state of the external substrate. The /G0 turns the value into a dimensionless quantity\n",
    "                                y0[6] = DInit/D0 #y0[-5] gives the initial state of the external substrate. The /G0 turns the value into a dimensionless quantity\n",
    "\n",
    "                                #non-dimensional parameters\n",
    "                                alpha1 = t0*VfDhaB*(1-np.exp(DeltaGDhaB))/G0\n",
    "                                alpha2 = t0*VfDhaB*(1-np.exp(DeltaGDhaB))/H0\n",
    "                                alpha3 = t0*VfDhaT*(1-np.exp(DeltaGDhaT))/H0\n",
    "                                alpha4 = t0*VfDhaT*(1-np.exp(DeltaGDhaT))/N0\n",
    "                                alpha5 = t0*VfIcdE*KmDhaTN*(1-np.exp(DeltaGIcdE))/(N0*KmIcdEN)\n",
    "                                alpha6 = t0*VfDhaT*(1-np.exp(DeltaGDhaT))/P0\n",
    "                                alpha7 = t0*VfDhaT*(1-np.exp(DeltaGDhaT))/D0\n",
    "                                alpha8 = t0*VfIcdE*KmDhaTN*(1-np.exp(DeltaGIcdE))/(D0*KmIcdEN)\n",
    "                                alpha9 = t0*VfIcdE*KmDhaTN*(1-np.exp(DeltaGIcdE))/(I0*KmIcdEN)\n",
    "                                alpha10 = t0*VfIcdE*KmDhaTN*(1-np.exp(DeltaGIcdE))/(A0*KmIcdEN)\n",
    "\n",
    "                                beta1 = KmDhaTH/KiDhaBH\n",
    "                                beta2 = KiIcdED/KiDhaTD\n",
    "                                beta3 = KmDhaTN/KmIcdEN\n",
    "                                \n",
    "                                #spatial derivative\n",
    "                                SDev = rhs(KmDhaBG,KiDhaBH,VfDhaB,KmIcdEN,KmIcdEA,KiIcdED,KiIcdEI,VfIcdE)\n",
    "                                \n",
    "                                #solution\n",
    "                                sol = odeint(SDev, y0, timeorig)\n",
    "                                \n",
    "                                #plot solution\n",
    "                                plt.plot(timeorig,sol[:,-5:])\n",
    "                                plt.show()\n"
   ]
  }
 ],
 "metadata": {
  "kernelspec": {
   "display_name": "Python 3",
   "language": "python",
   "name": "python3"
  },
  "language_info": {
   "codemirror_mode": {
    "name": "ipython",
    "version": 3
   },
   "file_extension": ".py",
   "mimetype": "text/x-python",
   "name": "python",
   "nbconvert_exporter": "python",
   "pygments_lexer": "ipython3",
   "version": "3.7.3"
  }
 },
 "nbformat": 4,
 "nbformat_minor": 2
}
