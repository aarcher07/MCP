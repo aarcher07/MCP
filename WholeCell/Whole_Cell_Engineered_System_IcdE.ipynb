{
 "cells": [
  {
   "cell_type": "code",
   "execution_count": 486,
   "metadata": {
    "pycharm": {
     "is_executing": false
    }
   },
   "outputs": [],
   "source": [
    "import numpy as np\n",
    "from scipy.integrate import solve_ivp\n",
    "from scipy.constants import *\n",
    "import sys\n",
    "import matplotlib.pyplot as plt\n",
    "import matplotlib.lines as mlines\n",
    "import matplotlib\n",
    "import math\n",
    "\n",
    "from scipy.optimize import curve_fit\n",
    "\n",
    "from mpl_toolkits.mplot3d import Axes3D\n",
    "from colour import Color\n",
    "\n",
    "from sklearn.decomposition import PCA as sklearnPCA\n",
    "from sklearn.metrics.pairwise import cosine_similarity\n",
    "from sklearn.metrics import auc\n",
    "from SALib.sample import saltelli\n",
    "from SALib.analyze import sobol\n",
    "from SALib.test_functions import Ishigami"
   ]
  },
  {
   "cell_type": "code",
   "execution_count": 444,
   "metadata": {},
   "outputs": [],
   "source": [
    "%matplotlib tk"
   ]
  },
  {
   "cell_type": "markdown",
   "metadata": {},
   "source": [
    "The following cell contains all the known parameters."
   ]
  },
  {
   "cell_type": "code",
   "execution_count": 516,
   "metadata": {
    "pycharm": {
     "is_executing": false
    }
   },
   "outputs": [
    {
     "name": "stdout",
     "output_type": "stream",
     "text": [
      "25\n"
     ]
    }
   ],
   "source": [
    "KmDhaTH = 0.77 #Km for H in N + H <--> D + P\n",
    "KmDhaTN = 0.03 #Km for N in N + H <--> D + P\n",
    "KiDhaTD = 0.23 #Ki for D in N + H <--> D + P\n",
    "KiDhaTP = 7.4  #Ki for P in N + H <--> D + P\n",
    "VfDhaT = 86.2  #V_f for N + H <--> D + P\n",
    "\n",
    "T = 298 # room temperature in kelvin\n",
    "R =  8.314 # gas constant\n",
    "DeltaGDhaT = -35.1/(R*T) # using Ph 7.8 since the IcdE reaction is forward processing\n",
    "DeltaGDhaB = -18.0/(R*T) # using Ph 7.8 since the IcdE reaction is forward processing\n",
    "DeltaGIcdE = -11.4/(R*T) # using Ph 7.8 since the IcdE reaction is forward processing\n",
    "\n",
    "# cell and MCP constants\n",
    "perm_cell = 0.01\n",
    "perm_mcp = 1.0 \n",
    "Vratio = 10\n",
    "Rc = 1.e-5 #Radius of compartment (cm)\n",
    "Diff = 1.e-4 #Diffusion coefficient\n",
    "Rb = 5.e-5 #Effective Radius of cell (cm)\n",
    "D = Diff/(Rc**2)\n",
    "r_mcp = 1. # why? \n",
    "r_cell = Rb/Rc # why?\n",
    "\n",
    "# mcp parameters\n",
    "n_compounds_mcp = 7\n",
    "n_compounds_cell = 5\n",
    "\n",
    "\n",
    "ngrid = int(25)\n",
    "print(ngrid)\n",
    "nsamples = int(1e3)\n",
    "fintime = 1e7\n",
    "y0 = np.zeros((ngrid+2)*n_compounds_cell+2)\n",
    "timeorig = np.linspace(0,fintime,nsamples)"
   ]
  },
  {
   "cell_type": "markdown",
   "metadata": {},
   "source": [
    "The following cell contains all the unknown constants set to 1.0 and the initial conditions for $N$ and $D$ set to 100."
   ]
  },
  {
   "cell_type": "code",
   "execution_count": 517,
   "metadata": {},
   "outputs": [],
   "source": [
    "# DhaB reaction constants\n",
    "VfDhaB = 1.0\n",
    "KmDhaBG = 1.0\n",
    "KiDhaBH = 5.0\n",
    "\n",
    "# IcdE reaction constants\n",
    "VfIcdE = 1.0\n",
    "KmIcdEA = 0.5\n",
    "KmIcdEN = 1.0\n",
    "KiIcdED = 1.0\n",
    "KiIcdEI = 3.0\n",
    "\n",
    "# initial conditions for GInit\n",
    "GInit = 100.\n",
    "\n",
    "# initial conditions for NInit\n",
    "NInit = 400.0\n",
    "\n",
    "# initial condition for DInit\n",
    "DInit = 400.0\n",
    "\n",
    "# initial condition for DInit\n",
    "AInit = 200.0\n"
   ]
  },
  {
   "cell_type": "markdown",
   "metadata": {},
   "source": [
    "I set the non-dimensional parameters below."
   ]
  },
  {
   "cell_type": "code",
   "execution_count": 771,
   "metadata": {},
   "outputs": [],
   "source": [
    "# state space and time scaling\n",
    "G0 = KmDhaBG\n",
    "H0 = KmDhaTH\n",
    "N0 = KmDhaTN\n",
    "P0 = KiDhaTP\n",
    "D0 = KiIcdED\n",
    "A0 = KmIcdEA\n",
    "I0 = KiIcdEI\n",
    "t0 = 3*r_mcp/perm_mcp\n",
    "\n",
    "y0[-5] = GInit/G0 #y0[-5] gives the initial state of the external substrate. The /G0 turns the value into a dimensionless quantity\n",
    "y0[-2] = AInit/A0 #y0[-1] gives the initial state of the external substrate. The /A0 turns the value into a dimensionless quantity\n",
    "y0[0] = NInit/N0 #y0[5] gives the initial state of the external substrate. The /N0 turns the value into a dimensionless quantity\n",
    "y0[1] = DInit/D0 #y0[6] gives the initial state of the external substrate. The /D0 turns the value into a dimensionless quantity\n",
    "\n",
    "param_list = np.zeros((13))\n",
    "#non-dimensional parameters\n",
    "param_list[0] = t0*VfDhaB*(1-np.exp(DeltaGDhaB))/G0\n",
    "param_list[1] = t0*VfDhaB*(1-np.exp(DeltaGDhaB))/H0\n",
    "param_list[2] = t0*VfDhaT*(1-np.exp(DeltaGDhaT))/H0\n",
    "param_list[3] = t0*VfDhaT*(1-np.exp(DeltaGDhaT))/N0\n",
    "param_list[4] = t0*VfIcdE*KmDhaTN*(1-np.exp(DeltaGIcdE))/(N0*KmIcdEN)\n",
    "param_list[5] = t0*VfDhaT*(1-np.exp(DeltaGDhaT))/P0\n",
    "param_list[6] = t0*VfDhaT*(1-np.exp(DeltaGDhaT))/D0\n",
    "param_list[7] = t0*VfIcdE*KmDhaTN*(1-np.exp(DeltaGIcdE))/(D0*KmIcdEN)\n",
    "param_list[8] = t0*VfIcdE*KmDhaTN*(1-np.exp(DeltaGIcdE))/(I0*KmIcdEN)\n",
    "param_list[9] = t0*VfIcdE*KmDhaTN*(1-np.exp(DeltaGIcdE))/(A0*KmIcdEN)\n",
    "\n",
    "param_list[10] = KmDhaTH/KiDhaBH\n",
    "param_list[11] = KiIcdED/KiDhaTD\n",
    "param_list[12] = KmDhaTN/KmIcdEN"
   ]
  },
  {
   "cell_type": "markdown",
   "metadata": {},
   "source": [
    "Below computes the spatial derivative."
   ]
  },
  {
   "cell_type": "code",
   "execution_count": 772,
   "metadata": {},
   "outputs": [],
   "source": [
    "def SDeriv(t,x,params): #spatial derivative\n",
    "\n",
    "    alpha_list = params[:10]\n",
    "    beta_list = params[10:]\n",
    "    ### why this scaling ####\n",
    "    M_cell = (Rb/Rc)**3/3. # why?\n",
    "    M_mcp = 1./3. # why?\n",
    "    M = M_mcp\n",
    "    DeltaM = np.divide((M_cell-M_mcp),(ngrid))\n",
    "\n",
    "    ### why this scaling ####\n",
    "\n",
    "    assert len(x) == 5*(2+(ngrid)) + 2 \n",
    "\n",
    "    d = np.zeros((len(x))).tolist() # convert to list to allow use of symbolic derivatives\n",
    "\n",
    "\n",
    "    ###################################################################################\n",
    "    ################################## MCP reactions ##################################\n",
    "    ###################################################################################\n",
    "\n",
    "    R_DhaB = x[2]/(1+x[2]+x[3]*beta_list[0])\n",
    "    R_DhaT = x[3]*x[0]/(1+x[3]*x[0]+beta_list[1]*x[4]*x[1])\n",
    "    R_IcdE = x[5]*x[0]/(1+x[5]*x[0]+beta_list[2]*x[6]*x[1])\n",
    "\n",
    "    \n",
    "    d[0] = -alpha_list[3]*R_DhaT + alpha_list[4]*R_IcdE                                #microcompartment equation for N\n",
    "    d[1] = alpha_list[6]*R_DhaT - alpha_list[7]*R_IcdE                                 #microcompartment equation for D\n",
    "    \n",
    "    d[2] = -alpha_list[0]*R_DhaB + x[2+n_compounds_cell] - x[2]                 #microcompartment equation for G\n",
    "    d[3] = alpha_list[1]*R_DhaB - alpha_list[2]*R_DhaT + x[3+n_compounds_cell] - x[3]  #microcompartment equation for H\n",
    "    d[4] = alpha_list[5]*R_DhaT + x[4+n_compounds_cell] - x[4]                  #microcompartment equation for P\n",
    "    d[5] =  - alpha_list[8]*R_IcdE + x[5+n_compounds_cell] - x[5]               #microcompartment equation for A\n",
    "    d[6] = alpha_list[9]*R_IcdE + x[6+n_compounds_cell] - x[6]                  #microcompartment equation for I\n",
    "\n",
    "\n",
    "    ####################################################################################\n",
    "    ##################################### boundary of MCP ##############################\n",
    "    ####################################################################################\n",
    "\n",
    "    M = M_mcp\n",
    "    for i in range(7,12):        \n",
    "        first_coef =  t0*(3**(4./3.))*(D/(DeltaM)**2)*((((M + 0.5*DeltaM)**4.)**(1./3.)) \n",
    "                                                    + (((M - 0.5*DeltaM)**4.)**(1./3.)))\n",
    "        second_coef = t0*(perm_mcp*(((M - 0.5*DeltaM)**4.)**(1./3.))*3**(2./3.))/(DeltaM*M_mcp**(2/3))\n",
    "\n",
    "        # BC at MCP for the ith compound in the cell \n",
    "        d[i] = first_coef*(x[i+n_compounds_cell]-x[i]) - second_coef*(x[i] - x[i-n_compounds_cell]) \n",
    "\n",
    "\n",
    "    ####################################################################################\n",
    "    ##################################### interior of cell #############################\n",
    "    ####################################################################################\n",
    "\n",
    "    for k in range(2,(ngrid+1)): \n",
    "        start_ind = 7 + (k-1)*n_compounds_cell\n",
    "        end_ind =  7 + k*n_compounds_cell\n",
    "        M += DeltaM # updated M\n",
    "        #cell equations for ith compound in the cell \n",
    "        for i in range(start_ind,end_ind):\n",
    "            coef = t0*((3**(4./3.))*D/(DeltaM)**2)\n",
    "            d[i] = coef*((((M + 0.5*DeltaM)**4.)**(1./3.))*(x[i+n_compounds_cell]-x[i]) \n",
    "                         - (((M - 0.5*DeltaM)**4.)**(1./3.))*(x[i]-x[i-n_compounds_cell]))\n",
    "\n",
    "    ####################################################################################\n",
    "    ###################### boundary of cell with external volume #######################\n",
    "    ####################################################################################\n",
    "\n",
    "    M = M_cell\n",
    "    for i in reversed(range(-6,-11,-1)):\n",
    "        first_coef = t0*(3**(4./3.))*(D/(DeltaM)**2)*((((M + 0.5*DeltaM)**4)**(1/3.)) \n",
    "                                                      + (((M - 0.5*DeltaM)**4)**(1/3.)))\n",
    "        second_coef = t0*(perm_cell*(((M + 0.5*DeltaM)**4)**(1/3.))*3**(2./3.))/(DeltaM*M_cell**(2/3))\n",
    "\n",
    "        # BC at ext volume for the ith compound in the cell \n",
    "        d[i] = first_coef*(x[i-n_compounds_cell] - x[i]) - second_coef*(x[i] - x[i+n_compounds_cell])\n",
    "\n",
    "\n",
    "    #####################################################################################\n",
    "    ######################### external volume equations #################################\n",
    "    #####################################################################################\n",
    "    for i in reversed(range(-1,-6,-1)):\n",
    "        d[i] = t0*(3*perm_cell/r_cell)*(x[i - n_compounds_cell] - x[i])/(Vratio) #external equation for concentration\n",
    "    return d"
   ]
  },
  {
   "cell_type": "code",
   "execution_count": 773,
   "metadata": {},
   "outputs": [],
   "source": [
    "#solution\n",
    "SDerivParameterized = lambda t,x: SDeriv(t,x,param_list)\n",
    "sol = solve_ivp(SDerivParameterized,[0, fintime], y0, method=\"BDF\",\n",
    "                t_eval=timeorig, atol=1.0e-9,rtol=1.0e-12)"
   ]
  },
  {
   "cell_type": "code",
   "execution_count": 774,
   "metadata": {},
   "outputs": [
    {
     "data": {
      "text/plain": [
       "'The solver successfully reached the end of the integration interval.'"
      ]
     },
     "execution_count": 774,
     "metadata": {},
     "output_type": "execute_result"
    }
   ],
   "source": [
    "sol.message"
   ]
  },
  {
   "cell_type": "code",
   "execution_count": 775,
   "metadata": {},
   "outputs": [
    {
     "data": {
      "image/png": "[encoded data removed]",
      "text/plain": [
       "<Figure size 432x288 with 1 Axes>"
      ]
     },
     "metadata": {
      "needs_background": "light"
     },
     "output_type": "display_data"
    }
   ],
   "source": [
    "%matplotlib inline\n",
    "plt.plot(sol.t,sol.y[-5:,:].T)\n",
    "plt.legend(['G','H','P','I','A'],loc='upper right')\n",
    "filename = \"VfDhaB_\"+str(VfDhaB)+\"_KmDhaBG_\" + str(KmDhaBG) + \"_KiDhaBH_\" + str(KiDhaBH) + \"_VfIcdE_\"  + str(VfIcdE) + \"_KmIcdEA_\" + str(KmIcdEA) + \"_KmIcdEN_\" + str(KmIcdEN) + \"_KiIcdED_\" + str(KiIcdED) + \"_KiIcdEI_\" + str(KiIcdEI) + \"_GInit_\" + str(GInit) + \"_NInit_\" + \"_GInit_\" + str(GInit) + \"_NInit_\" + str(NInit) + \"_DInit_\" + str(DInit) + \"_AInit_\" + str(AInit)\n",
    "plt.savefig('/Users/aarcher/PycharmProjects/MCP/WholeCell/plots/' + filename + '.png')\n",
    "plt.show()"
   ]
  },
  {
   "cell_type": "markdown",
   "metadata": {},
   "source": [
    "Compute concentration statistics:\n",
    "- compute area under the curve of P"
   ]
  },
  {
   "cell_type": "code",
   "execution_count": 539,
   "metadata": {},
   "outputs": [
    {
     "data": {
      "text/plain": [
       "9090889.458452161"
      ]
     },
     "execution_count": 539,
     "metadata": {},
     "output_type": "execute_result"
    }
   ],
   "source": [
    "auc(sol.t,sol.y[-3,:].T)"
   ]
  },
  {
   "cell_type": "markdown",
   "metadata": {},
   "source": [
    "- steady state flux of $P_{\\text{cell}}$ at the cell boundary"
   ]
  },
  {
   "cell_type": "code",
   "execution_count": 538,
   "metadata": {},
   "outputs": [
    {
     "data": {
      "text/plain": [
       "array([ 0.00000000e+00, -6.04515987e-17,  0.00000000e+00,  0.00000000e+00,\n",
       "        0.00000000e+00])"
      ]
     },
     "execution_count": 538,
     "metadata": {},
     "output_type": "execute_result"
    }
   ],
   "source": [
    "# flux of all compounds\n",
    "4*math.pi*(r_cell**2)*(sol.y[-6:-1,-1] - sol.y[(-6-n_compounds_cell):(-1-n_compounds_cell),-1])"
   ]
  },
  {
   "cell_type": "code",
   "execution_count": 537,
   "metadata": {},
   "outputs": [
    {
     "data": {
      "text/plain": [
       "0.0"
      ]
     },
     "execution_count": 537,
     "metadata": {},
     "output_type": "execute_result"
    }
   ],
   "source": [
    "4*math.pi*(r_cell**2)*(sol.y[-3,-1] - sol.y[-3-n_compounds_cell,-1])"
   ]
  },
  {
   "cell_type": "markdown",
   "metadata": {},
   "source": [
    "- steady state flux of $P_{\\text{mcp}}$ at MCP"
   ]
  },
  {
   "cell_type": "code",
   "execution_count": 530,
   "metadata": {},
   "outputs": [
    {
     "data": {
      "text/plain": [
       "array([6.71574428e-18, 0.00000000e+00, 0.00000000e+00, 0.00000000e+00,\n",
       "       0.00000000e+00])"
      ]
     },
     "execution_count": 530,
     "metadata": {},
     "output_type": "execute_result"
    }
   ],
   "source": [
    "# flux of all compounds\n",
    "4*math.pi*(r_cell**2)*perm_mcp*(sol.y[2:7,-1] - sol.y[7:(7+n_compounds_cell),-1])"
   ]
  },
  {
   "cell_type": "code",
   "execution_count": 536,
   "metadata": {},
   "outputs": [
    {
     "data": {
      "text/plain": [
       "0.0"
      ]
     },
     "execution_count": 536,
     "metadata": {},
     "output_type": "execute_result"
    }
   ],
   "source": [
    "4*math.pi*(r_cell**2)*perm_mcp*(sol.y[4,-1] - sol.y[4+n_compounds_cell,-1])"
   ]
  },
  {
   "cell_type": "markdown",
   "metadata": {},
   "source": [
    "- steady state concentration of $P_{\\text{ext}}$"
   ]
  },
  {
   "cell_type": "code",
   "execution_count": 541,
   "metadata": {},
   "outputs": [
    {
     "data": {
      "text/plain": [
       "0.910090130525393"
      ]
     },
     "execution_count": 541,
     "metadata": {},
     "output_type": "execute_result"
    }
   ],
   "source": [
    "sol.y[-3,-1]"
   ]
  },
  {
   "cell_type": "markdown",
   "metadata": {},
   "source": [
    "## Stiff Solver"
   ]
  },
  {
   "cell_type": "code",
   "execution_count": 793,
   "metadata": {},
   "outputs": [],
   "source": [
    "from scipy.optimize import newton\n",
    "import sympy as sp\n",
    "import scipy.sparse as sparse\n",
    "import time"
   ]
  },
  {
   "cell_type": "code",
   "execution_count": 808,
   "metadata": {},
   "outputs": [],
   "source": [
    "#param_sp = list(sp.symbols('alpha0:10'))\n",
    "#param_sp.extend(sp.symbols('beta0:3'))\n",
    "x_list_sp = np.array(sp.symbols('x:' + str( 5*(2+(ngrid)) + 2)))\n",
    "SDerivSymbolic = SDeriv(0,x_list_sp,param_list)\n",
    "SDerivGrad = sp.SparseMatrix(SDerivSymbolic).jacobian(x_list_sp)\n",
    "SDerivGradFun = sp.lambdify(x_list_sp, SDerivGrad, 'numpy')\n",
    "SDerivGradFunSparse = lambda t,x: sparse.csr_matrix(SDerivGradFun(x))"
   ]
  },
  {
   "cell_type": "code",
   "execution_count": 709,
   "metadata": {},
   "outputs": [],
   "source": [
    "class BDF:\n",
    "    def __init__(self,rhs, y0, tspan, devrhs = None, dt = 1e-2, max_dt = 1.0, min_dt = 1e-7, dt_cut = 2, \n",
    "                 dt_raise=2, abstol=1e-6,reltol=1e-6, devtol = 1e-5, maxtime = 5.*60.):\n",
    "        self.rhs = rhs\n",
    "        self.y0 = y0\n",
    "        self.t0 = t0\n",
    "        self.dt = dt\n",
    "        self.tspan = tspan\n",
    "        self.max_dt = max_dt\n",
    "        self.min_dt = min_dt\n",
    "        self.dt_cut = dt_cut\n",
    "        self.dt_raise = dt_raise\n",
    "        self.abstol = abstol\n",
    "        self.reltol = reltol\n",
    "        self.devtol = devtol\n",
    "        self.maxtime = maxtime\n",
    "        \n",
    "        \n",
    "    def step(self,t,*argv):\n",
    "        yvals = {}\n",
    "        for i,arg in enumerate(argv): \n",
    "            yvals[\"y\"+str(i)] = arg\n",
    "        \n",
    "        if len(argv) == 1:\n",
    "            #BDF-1 \n",
    "            numeric_scheme = lambda y_next: y_next - yvals[\"y1\"] - self.dt*rhs(t[-1],y_next)\n",
    "            fprime = lambda t,x: sparse.identity(len(yvals[\"y1\"])) - self.dt*devrhs(t,x)\n",
    "            iter_sol = newton(numeric_scheme, yvals[\"y1\"], fprime = fprime)\n",
    "        elif len(argv) == 2:\n",
    "            #BDF-2\n",
    "            numeric_scheme = lambda y_next: y_next - (4./3.)*yvals[\"y1\"] + (1./3.)*yvals[\"y2\"] - self.dt*(2./3.)*rhs(t[-1],y_next)\n",
    "            fprime = lambda t,x: sparse.identity(len(yvals[\"y1\"])) - self.dt*(2./3.)*devrhs(t,x)\n",
    "            iter_sol = newton(numeric_scheme, yvals[\"y1\"], fprime = fprime)\n",
    "        elif len(argv) == 3:\n",
    "            #BDF-3\n",
    "            numeric_scheme = lambda y_next: y_next - (18./11.)*yvals[\"y1\"] + (9./11.)*yvals[\"y2\"] - (2./11.)*yvals[\"y3\"] - self.dt*(6./11.)*rhs(t[-1],y_next)\n",
    "            fprime = lambda t,x: sparse.identity(len(yvals[\"y1\"])) - self.dt*(2./11.)*devrhs(t,x)\n",
    "            iter_sol = newton(numeric_scheme, yvals[\"y1\"], fprime = fprime)\n",
    "\n",
    "        return [iter_sol[1].converged, iter_sol[0]]\n",
    "    \n",
    "    \n",
    "    def initialize(self,order,h=1e-12):\n",
    "        \n",
    "        while(length(self.t) < order):\n",
    "            y = self.y[-1]\n",
    "            t = self.t[-1]\n",
    "            \n",
    "            # take a step Rk4 step \n",
    "            \n",
    "            k1 = self.rhs(t,y)\n",
    "            k2 = self.rhs(t + h/2., y + k1*h/2.)\n",
    "            k3 = self.rhs(t + h/2., y + k2*h/2.)\n",
    "            k4 = self.rhs(t + h, y + k3*h)\n",
    "            \n",
    "            ynew = y + (k1 + 2.*k2 + 2.*k3 + k4)*h/6.\n",
    "            tnew = t + h\n",
    "            \n",
    "            # store step\n",
    "            \n",
    "            (self.y).append(y)\n",
    "            (self.t).append(tnew)\n",
    "            \n",
    "            \n",
    "            \n",
    "    def integrate(self,order=2,initalize_h =1e-8):\n",
    "        \n",
    "        self.y = [self.y0]\n",
    "        self.t = [self.t0]\n",
    "        status = -99\n",
    "        \n",
    "        output_header = '%10s %10s %10s 10s' % ('t', 'dt', '||slope||_1' 'time')\n",
    "            \n",
    "        # initialize with RK45\n",
    "        if order > 1:\n",
    "            self.initialize(order,initalize_h)\n",
    "            \n",
    "        ##################################\n",
    "        ########### Begin Loop ###########\n",
    "        ##################################\n",
    "        \n",
    "        # start time\n",
    "        start_time = time.time()\n",
    "        \n",
    "        \n",
    "        while 1:\n",
    "\n",
    "            # compute time of loop\n",
    "            current_time = time.time()\n",
    "            total_time = current_time - start_time\n",
    "            maxgrad = max(abs(self.rhs(t[-1],y[-1])))\n",
    "            \n",
    "            #########################################\n",
    "            ############ Break Conditions ###########\n",
    "            #########################################\n",
    "            \n",
    "            if not (t[-1] < self.tspan[-1]):\n",
    "                # end of interval\n",
    "                status = 0\n",
    "                break\n",
    "                \n",
    "            if dt < self.min_dt:\n",
    "                #step size too small\n",
    "                status = -1\n",
    "                break\n",
    "                \n",
    "            if maxgrad < self.devtol:\n",
    "                # 1-norm of derivative too small\n",
    "                status = -2\n",
    "                break \n",
    "            \n",
    "            if total_time > self.maxtime:\n",
    "                status = -3\n",
    "                break\n",
    "            \n",
    "            ##########################################\n",
    "            ################ Set Time ################\n",
    "            ##########################################\n",
    "            \n",
    "            # reset dt\n",
    "            if dt > max_dt:\n",
    "                dt = max_dt\n",
    "                \n",
    "            # potential new time\n",
    "            tnew = t[-1] + dt\n",
    "            \n",
    "            if tnew > tspan[-1]:\n",
    "                dt = tspan[-1] - t[-1]\n",
    "                tnew = t[-1] + dt\n",
    "            \n",
    "            # take a step\n",
    "            iter_converged,y_new = self.step(t[-1],*y[-order:][::-1])\n",
    "            \n",
    "            ###########################################\n",
    "            ###### Error and Convergence Checks #######\n",
    "            ###########################################\n",
    "            \n",
    "            abs_error = abs(y_new  - y[-1])\n",
    "            \n",
    "            # check convergence, error\n",
    "            if not iter_converged or max(abs_error) > self.reltol*max(abs(y[-1])) or max(abs_error) > self.abstol:\n",
    "                dt = dt/self.dt_cut\n",
    "            else:\n",
    "                dt = dt*self.dt_raise\n",
    "                (self.t).append(tnew)\n",
    "                (self.y).append(ynew)\n",
    "                \n",
    "            ###########################################\n",
    "            ############ Print Statements #############\n",
    "            ###########################################\n",
    "            \n",
    "            if length(self.t) % 1000:\n",
    "                print(output_header)\n",
    "            \n",
    "            if length(self.t) % 100:\n",
    "                print('%10.7e %10.7e %10.7e %10.7e' % (self.t[-1], dt, maxgrad, total_time))\n",
    "            \n",
    "        ##################################\n",
    "        ############ End Loop ############\n",
    "        ##################################\n",
    "\n",
    "        ##################################\n",
    "        ######## Finalize results ########\n",
    "        ###################################\n",
    "        print(output_header)\n",
    "        print('%10.7e %10.7e %10.7e 10.7e' % (self.t[-1], dt, maxgrad, total_time))\n",
    "\n",
    "        print('')\n",
    "        print('Status ..................................................: %d' % status)\n",
    "        print('Final time...............................................: %g' % self.t[-1])\n",
    "        print('Time of loop.............................................: %g' % total_time)\n",
    "        print('Maximum slope............................................: %g' % maxgrad)\n",
    "        print('')\n",
    "\n",
    "        if status == 0:\n",
    "            print('Exit: Intergration Success.')\n",
    "        elif status == -1:\n",
    "            print('Exit: Step size, ' + '{:.2E}'.format(dt) + ', is smaller than smallest allowed step-size.)\n",
    "        elif status == -2:\n",
    "            print('Exit: Steady state reached.')\n",
    "        elif status == -3:\n",
    "            print('Exit: Integration is taking too long, %10.7e, sections.' % total_time)\n",
    "        else:\n",
    "            print('ERROR: Unknown status value: %d\\n' % status)\n",
    "        return [status,self.t,self.y]\n",
    "    \n",
    "    "
   ]
  },
  {
   "cell_type": "code",
   "execution_count": 826,
   "metadata": {},
   "outputs": [
    {
     "data": {
      "text/plain": [
       "array([1.        , 0.5       , 0.33333333])"
      ]
     },
     "execution_count": 826,
     "metadata": {},
     "output_type": "execute_result"
    }
   ],
   "source": [
    "a = np.ones((3))\n",
    "b = np.array(range(1,4))\n",
    "a/b"
   ]
  },
  {
   "cell_type": "code",
   "execution_count": 710,
   "metadata": {},
   "outputs": [],
   "source": [
    "#solution\n",
    "sol = solve_ivp(SDeriv,[0, fintime], y0, method=\"BDF\",\n",
    "                t_eval=timeorig, atol=1.0e-9,rtol=1.0e-12,events=[norm_event])"
   ]
  },
  {
   "cell_type": "code",
   "execution_count": 654,
   "metadata": {},
   "outputs": [
    {
     "data": {
      "image/png": "[encoded data removed]",
      "text/plain": [
       "<Figure size 432x288 with 1 Axes>"
      ]
     },
     "metadata": {
      "needs_background": "light"
     },
     "output_type": "display_data"
    }
   ],
   "source": [
    "%matplotlib inline\n",
    "plt.plot(sol.t,sol.y[-5:,:].T)\n",
    "plt.legend(['G','H','P','I','A'],loc='upper right')\n",
    "#filename = \"VfDhaB_\"+str(VfDhaB)+\"_KmDhaBG_\" + str(KmDhaBG) + \"_KiDhaBH_\" + str(KiDhaBH) + \"_VfIcdE_\"  + str(VfIcdE) + \"_KmIcdEA_\" + str(KmIcdEA) + \"_KmIcdEN_\" + str(KmIcdEN) + \"_KiIcdED_\" + str(KiIcdED) + \"_KiIcdEI_\" + str(KiIcdEI) + \"_GInit_\" + str(GInit) + \"_NInit_\" + \"_GInit_\" + str(GInit) + \"_NInit_\" + str(NInit) + \"_DInit_\" + str(DInit) + \"_AInit_\" + str(AInit)\n",
    "plt.savefig('/Users/aarcher/PycharmProjects/MCP/WholeCell/plots/' + filename + '.png')\n",
    "plt.show()"
   ]
  },
  {
   "cell_type": "markdown",
   "metadata": {},
   "source": [
    "## Sensitivity Analysis"
   ]
  },
  {
   "cell_type": "code",
   "execution_count": 100,
   "metadata": {},
   "outputs": [],
   "source": [
    "def model_IcdE(KmDhaBG,KiDhaBH,VfDhaB,KmIcdEN,KmIcdEA,KiIcdED,KiIcdEI,VfIcdE,NInit,DInit):\n",
    "    # state space and time scaling\n",
    "    G0 = KmDhaBG\n",
    "    H0 = KmDhaTH\n",
    "    N0 = KmDhaTN\n",
    "    P0 = KiDhaTP\n",
    "    D0 = KiIcdED\n",
    "    A0 = KmIcdEA\n",
    "    I0 = KiIcdEI\n",
    "    t0 = 3*r_mcp/perm_mcp\n",
    "\n",
    "    y0[-5] = SInit/G0 #y0[-5] gives the initial state of the external substrate. The /G0 turns the value into a dimensionless quantity\n",
    "    y0[5] = NInit/N0 #y0[-5] gives the initial state of the external substrate. The /G0 turns the value into a dimensionless quantity\n",
    "    y0[6] = DInit/D0 #y0[-5] gives the initial state of the external substrate. The /G0 turns the value into a dimensionless quantity\n",
    "\n",
    "    #non-dimensional parameters\n",
    "    alpha1 = t0*VfDhaB*(1-np.exp(DeltaGDhaB))/G0\n",
    "    alpha2 = t0*VfDhaB*(1-np.exp(DeltaGDhaB))/H0\n",
    "    alpha3 = t0*VfDhaT*(1-np.exp(DeltaGDhaT))/H0\n",
    "    alpha4 = t0*VfDhaT*(1-np.exp(DeltaGDhaT))/N0\n",
    "    alpha5 = t0*VfIcdE*KmDhaTN*(1-np.exp(DeltaGIcdE))/(N0*KmIcdEN)\n",
    "    alpha6 = t0*VfDhaT*(1-np.exp(DeltaGDhaT))/P0\n",
    "    alpha7 = t0*VfDhaT*(1-np.exp(DeltaGDhaT))/D0\n",
    "    alpha8 = t0*VfIcdE*KmDhaTN*(1-np.exp(DeltaGIcdE))/(D0*KmIcdEN)\n",
    "    alpha9 = t0*VfIcdE*KmDhaTN*(1-np.exp(DeltaGIcdE))/(I0*KmIcdEN)\n",
    "    alpha10 = t0*VfIcdE*KmDhaTN*(1-np.exp(DeltaGIcdE))/(A0*KmIcdEN)\n",
    "\n",
    "    beta1 = KmDhaTH/KiDhaBH\n",
    "    beta2 = KiIcdED/KiDhaTD\n",
    "    beta3 = KmDhaTN/KmIcdEN\n",
    "\n",
    "    SDev = rhs(KmDhaBG,KiDhaBH,VfDhaB,KmIcdEN,KmIcdEA,KiIcdED,KiIcdEI,VfIcdE)\n",
    "\n",
    "    sol = odeint(SDev, y0, timeorig)\n",
    "    \n",
    "    return sol[-1,-5]\n"
   ]
  },
  {
   "cell_type": "code",
   "execution_count": 101,
   "metadata": {},
   "outputs": [],
   "source": [
    "problem = {\n",
    "    'num_vars': 10,\n",
    "    'names': ['KmDhaBG','KiDhaBH','VfDhaB','KmIcdEN','KmIcdEA','KiIcdED','KiIcdEI','VfIcdE','NInit','DInit'],\n",
    "    'bounds': np.repeat([[5,10]], 10,axis=0)\n",
    "}\n",
    "\n"
   ]
  },
  {
   "cell_type": "code",
   "execution_count": 102,
   "metadata": {},
   "outputs": [],
   "source": [
    "param_values = saltelli.sample(problem, 2)"
   ]
  },
  {
   "cell_type": "code",
   "execution_count": 108,
   "metadata": {},
   "outputs": [
    {
     "data": {
      "text/plain": [
       "44"
      ]
     },
     "execution_count": 108,
     "metadata": {},
     "output_type": "execute_result"
    }
   ],
   "source": [
    "param_values.shape[0]"
   ]
  },
  {
   "cell_type": "code",
   "execution_count": 110,
   "metadata": {},
   "outputs": [],
   "source": [
    "Y = np.zeros([param_values.shape[0]])\n",
    "\n",
    "for i, X in enumerate(param_values):\n",
    "    Y[i] = model_IcdE(*X)"
   ]
  },
  {
   "cell_type": "code",
   "execution_count": 111,
   "metadata": {},
   "outputs": [
    {
     "data": {
      "text/plain": [
       "{'S1': array([ 3.49163166e-01,  0.00000000e+00,  0.00000000e+00,  0.00000000e+00,\n",
       "         0.00000000e+00,  7.00029501e-10,  0.00000000e+00,  0.00000000e+00,\n",
       "         1.79845011e-10, -6.10593355e-09]),\n",
       " 'S1_conf': array([1.16482735e+01, 0.00000000e+00, 0.00000000e+00, 0.00000000e+00,\n",
       "        0.00000000e+00, 8.89693325e-09, 0.00000000e+00, 0.00000000e+00,\n",
       "        7.48241729e-09, 7.58778096e-08]),\n",
       " 'ST': array([1.67733651e-01, 0.00000000e+00, 0.00000000e+00, 0.00000000e+00,\n",
       "        0.00000000e+00, 2.81955680e-19, 0.00000000e+00, 0.00000000e+00,\n",
       "        3.40875385e-20, 2.11275295e-17]),\n",
       " 'ST_conf': array([1.79558803e+00, 0.00000000e+00, 0.00000000e+00, 0.00000000e+00,\n",
       "        0.00000000e+00, 3.52503694e-18, 0.00000000e+00, 0.00000000e+00,\n",
       "        1.79642026e-18, 2.64194574e-16]),\n",
       " 'S2': array([[            nan, -3.62859030e-01, -3.62859030e-01,\n",
       "         -3.62859030e-01, -3.62859030e-01, -3.62859030e-01,\n",
       "         -3.62859030e-01, -3.62859030e-01, -3.62859029e-01,\n",
       "         -3.62859026e-01],\n",
       "        [            nan,             nan,  0.00000000e+00,\n",
       "          0.00000000e+00,  0.00000000e+00, -2.25298583e-17,\n",
       "          0.00000000e+00,  0.00000000e+00, -3.92608582e-17,\n",
       "         -4.15596873e-17],\n",
       "        [            nan,             nan,             nan,\n",
       "          0.00000000e+00,  0.00000000e+00, -2.25298583e-17,\n",
       "          0.00000000e+00,  0.00000000e+00, -3.92608582e-17,\n",
       "         -4.15596873e-17],\n",
       "        [            nan,             nan,             nan,\n",
       "                     nan,  0.00000000e+00, -2.25298583e-17,\n",
       "          0.00000000e+00,  0.00000000e+00, -3.92608582e-17,\n",
       "         -4.15596873e-17],\n",
       "        [            nan,             nan,             nan,\n",
       "                     nan,             nan, -2.25298583e-17,\n",
       "          0.00000000e+00,  0.00000000e+00, -3.92608582e-17,\n",
       "         -4.15596873e-17],\n",
       "        [            nan,             nan,             nan,\n",
       "                     nan,             nan,             nan,\n",
       "         -6.75000078e-10, -6.75000078e-10, -6.75000118e-10,\n",
       "         -6.75000064e-10],\n",
       "        [            nan,             nan,             nan,\n",
       "                     nan,             nan,             nan,\n",
       "                     nan,  0.00000000e+00, -3.92608582e-17,\n",
       "         -4.15596873e-17],\n",
       "        [            nan,             nan,             nan,\n",
       "                     nan,             nan,             nan,\n",
       "                     nan,             nan, -3.92608582e-17,\n",
       "         -4.15596873e-17],\n",
       "        [            nan,             nan,             nan,\n",
       "                     nan,             nan,             nan,\n",
       "                     nan,             nan,             nan,\n",
       "         -1.75474888e-11],\n",
       "        [            nan,             nan,             nan,\n",
       "                     nan,             nan,             nan,\n",
       "                     nan,             nan,             nan,\n",
       "                     nan]]),\n",
       " 'S2_conf': array([[           nan, 2.38559604e+01, 2.38559604e+01, 2.38559604e+01,\n",
       "         2.38559604e+01, 2.38559604e+01, 2.38559604e+01, 2.38559604e+01,\n",
       "         2.38559604e+01, 2.38559603e+01],\n",
       "        [           nan,            nan, 0.00000000e+00, 0.00000000e+00,\n",
       "         0.00000000e+00, 4.76996581e-16, 0.00000000e+00, 0.00000000e+00,\n",
       "         1.22555182e-15, 1.82866912e-15],\n",
       "        [           nan,            nan,            nan, 0.00000000e+00,\n",
       "         0.00000000e+00, 4.76996581e-16, 0.00000000e+00, 0.00000000e+00,\n",
       "         1.22555182e-15, 1.82866912e-15],\n",
       "        [           nan,            nan,            nan,            nan,\n",
       "         0.00000000e+00, 4.76996581e-16, 0.00000000e+00, 0.00000000e+00,\n",
       "         1.22555182e-15, 1.82866912e-15],\n",
       "        [           nan,            nan,            nan,            nan,\n",
       "                    nan, 4.76996581e-16, 0.00000000e+00, 0.00000000e+00,\n",
       "         1.22555182e-15, 1.82866912e-15],\n",
       "        [           nan,            nan,            nan,            nan,\n",
       "                    nan,            nan, 8.10888469e-09, 8.10888469e-09,\n",
       "         8.10888436e-09, 8.10888524e-09],\n",
       "        [           nan,            nan,            nan,            nan,\n",
       "                    nan,            nan,            nan, 0.00000000e+00,\n",
       "         1.22555182e-15, 1.82866912e-15],\n",
       "        [           nan,            nan,            nan,            nan,\n",
       "                    nan,            nan,            nan,            nan,\n",
       "         1.22555182e-15, 1.82866912e-15],\n",
       "        [           nan,            nan,            nan,            nan,\n",
       "                    nan,            nan,            nan,            nan,\n",
       "                    nan, 5.91195721e-09],\n",
       "        [           nan,            nan,            nan,            nan,\n",
       "                    nan,            nan,            nan,            nan,\n",
       "                    nan,            nan]])}"
      ]
     },
     "execution_count": 111,
     "metadata": {},
     "output_type": "execute_result"
    }
   ],
   "source": [
    "sobol.analyze(problem, Y)"
   ]
  },
  {
   "cell_type": "code",
   "execution_count": null,
   "metadata": {},
   "outputs": [],
   "source": [
    "# manual local senstivity analysis\n",
    "\n",
    "test_vals = [1.0,10.0]\n",
    "\n",
    "for KmDhaBG in test_vals: #Km for G in G <--> H\n",
    "    for KiDhaBH in test_vals: #Km for H in G <--> H\n",
    "        for VfDhaB in test_vals: #Vf for G <--> H\n",
    "            for KmIcdEN in test_vals: #Km for N in N + A <--> I + D\n",
    "                for KmIcdEA in test_vals: #Km for A in N + A <--> I + D\n",
    "                    for KiIcdED in test_vals: #Ki for D in N + A <--> I + D\n",
    "                        for KiIcdEI in test_vals: #Ki for I in N + A <--> I + D\n",
    "                            for VfIcdE in test_vals: #Vf for N + A <--> I + D\n",
    "\n",
    "\n",
    "                                # state space and time scaling\n",
    "                                G0 = KmDhaBG\n",
    "                                H0 = KmDhaTH\n",
    "                                N0 = KmDhaTN\n",
    "                                P0 = KiDhaTP\n",
    "                                D0 = KiIcdED\n",
    "                                A0 = KmIcdEA\n",
    "                                I0 = KiIcdEI\n",
    "                                t0 = 3*r_mcp/perm_mcp\n",
    "\n",
    "                                y0[-5] = SInit/G0 #y0[-5] gives the initial state of the external substrate. The /G0 turns the value into a dimensionless quantity\n",
    "                                y0[5] = NInit/N0 #y0[-5] gives the initial state of the external substrate. The /G0 turns the value into a dimensionless quantity\n",
    "                                y0[6] = DInit/D0 #y0[-5] gives the initial state of the external substrate. The /G0 turns the value into a dimensionless quantity\n",
    "\n",
    "                                #non-dimensional parameters\n",
    "                                alpha1 = t0*VfDhaB*(1-np.exp(DeltaGDhaB))/G0\n",
    "                                alpha2 = t0*VfDhaB*(1-np.exp(DeltaGDhaB))/H0\n",
    "                                alpha3 = t0*VfDhaT*(1-np.exp(DeltaGDhaT))/H0\n",
    "                                alpha4 = t0*VfDhaT*(1-np.exp(DeltaGDhaT))/N0\n",
    "                                alpha5 = t0*VfIcdE*KmDhaTN*(1-np.exp(DeltaGIcdE))/(N0*KmIcdEN)\n",
    "                                alpha6 = t0*VfDhaT*(1-np.exp(DeltaGDhaT))/P0\n",
    "                                alpha7 = t0*VfDhaT*(1-np.exp(DeltaGDhaT))/D0\n",
    "                                alpha8 = t0*VfIcdE*KmDhaTN*(1-np.exp(DeltaGIcdE))/(D0*KmIcdEN)\n",
    "                                alpha9 = t0*VfIcdE*KmDhaTN*(1-np.exp(DeltaGIcdE))/(I0*KmIcdEN)\n",
    "                                alpha10 = t0*VfIcdE*KmDhaTN*(1-np.exp(DeltaGIcdE))/(A0*KmIcdEN)\n",
    "\n",
    "                                beta1 = KmDhaTH/KiDhaBH\n",
    "                                beta2 = KiIcdED/KiDhaTD\n",
    "                                beta3 = KmDhaTN/KmIcdEN\n",
    "                                \n",
    "                                #spatial derivative\n",
    "                                SDev = rhs(KmDhaBG,KiDhaBH,VfDhaB,KmIcdEN,KmIcdEA,KiIcdED,KiIcdEI,VfIcdE)\n",
    "                                \n",
    "                                #solution\n",
    "                                sol = odeint(SDev, y0, timeorig)\n",
    "                                \n",
    "                                #plot solution\n",
    "                                plt.plot(timeorig,sol[:,-5:])\n",
    "                                plt.show()\n"
   ]
  },
  {
   "cell_type": "markdown",
   "metadata": {},
   "source": [
    "### The following cell defines a function for the derivative of the states. The output of this derivative is a vector of the same length as the state vectors.\n",
    "\n",
    "The derivative calculated here is for the unitless/rescaled version of the equations. This is due to the fact that all the units are significantly different orders of magnitude causing many issues with stability of the equations."
   ]
  },
  {
   "cell_type": "code",
   "execution_count": 261,
   "metadata": {},
   "outputs": [],
   "source": []
  },
  {
   "cell_type": "code",
   "execution_count": 273,
   "metadata": {},
   "outputs": [
    {
     "name": "stderr",
     "output_type": "stream",
     "text": [
      "/usr/local/lib/python3.7/site-packages/ipykernel_launcher.py:4: DeprecationWarning: object of type <class 'float'> cannot be safely interpreted as an integer.\n",
      "  after removing the cwd from sys.path.\n"
     ]
    }
   ],
   "source": []
  },
  {
   "cell_type": "code",
   "execution_count": 274,
   "metadata": {
    "scrolled": true
   },
   "outputs": [],
   "source": []
  },
  {
   "cell_type": "code",
   "execution_count": 297,
   "metadata": {},
   "outputs": [
    {
     "data": {
      "image/png": "[encoded data removed]",
      "text/plain": [
       "<Figure size 432x288 with 1 Axes>"
      ]
     },
     "metadata": {
      "needs_background": "light"
     },
     "output_type": "display_data"
    }
   ],
   "source": []
  },
  {
   "cell_type": "code",
   "execution_count": 77,
   "metadata": {},
   "outputs": [],
   "source": [
    "no_mcp_sol = sol[:,7:] # mass conservations? check stoichiometries\n",
    "# there does not seem to be an accumulation of H"
   ]
  },
  {
   "cell_type": "code",
   "execution_count": 85,
   "metadata": {},
   "outputs": [
    {
     "data": {
      "text/plain": [
       "array([0., 0., 0., ..., 0., 0., 0.])"
      ]
     },
     "execution_count": 85,
     "metadata": {},
     "output_type": "execute_result"
    }
   ],
   "source": [
    "#2*no_mcp_sol[:,list(range(1,130,5))].sum(axis=1)"
   ]
  },
  {
   "cell_type": "markdown",
   "metadata": {},
   "source": [
    "#### The next few cells are used only if you have not generated/saved data already\n",
    "\n",
    "The following cell calculates the time series going forward for a grid of permeabilities. Each set of permeabilities uses the same time points and is integrated for the same amount of time.\n",
    "\n",
    "This causes poor resolution for the faster paths. The results of this cell will be used to determine the time necessary to properly resolve each set of parameter values for when the \"progress\" calculation is done"
   ]
  },
  {
   "cell_type": "code",
   "execution_count": 9,
   "metadata": {},
   "outputs": [
    {
     "name": "stdout",
     "output_type": "stream",
     "text": [
      "[============================================       ]      [=============================================      ]"
     ]
    },
    {
     "name": "stderr",
     "output_type": "stream",
     "text": [
      "/home/ash4334/.local/lib/python2.7/site-packages/scipy/integrate/odepack.py:247: ODEintWarning: Excess work done on this call (perhaps wrong Dfun type). Run with full_output = 1 to get quantitative information.\n",
      "  warnings.warn(warning_msg, ODEintWarning)\n"
     ]
    },
    {
     "name": "stdout",
     "output_type": "stream",
     "text": [
      "[===================================================]      [===================================================]"
     ]
    }
   ],
   "source": [
    "sol = np.zeros((51,51,1000,3*(ngrid+2)))\n",
    "values = np.linspace(-6,-3,51)\n",
    "\n",
    "for i in (range(51)):\n",
    "    perm0c = 10**(values[i])\n",
    "    perm1c = perm0c\n",
    "    perm2c = perm0c\n",
    "    for j in (range(51)):\n",
    "        a = sys.stdout\n",
    "        a.write('\\r')\n",
    "        a.write('[%-51s]      [%-51s]' % ('='*(i+1),'='*(j+1)))\n",
    "        a.flush()\n",
    "        perm0b = 10**(values[j]+1)\n",
    "        perm1b = perm0b\n",
    "        perm2b = perm0b\n",
    "        sol[i,j] = odeint(SDeriv, y0, timeorig)"
   ]
  },
  {
   "cell_type": "code",
   "execution_count": 23,
   "metadata": {},
   "outputs": [],
   "source": [
    "np.save('WildType/States-SameTime.npy',sol) #Saving the data from the previous cell"
   ]
  },
  {
   "cell_type": "markdown",
   "metadata": {},
   "source": [
    "The following cell takes the data from the previous integration and determines the time at which each parameter set reaches 95% of the equilibrium value of the final product. This time is then multiplied by 2 and used as the new end point for the time series. This adjustment allows you to adjust the resolution of the time series to the time it takes to reach equilibrium."
   ]
  },
  {
   "cell_type": "code",
   "execution_count": 66,
   "metadata": {},
   "outputs": [],
   "source": [
    "EquilibriumTime = np.zeros((51,51))\n",
    "for i in range(51):\n",
    "    for j in range(51):\n",
    "        complete = np.where(sol[i,j,:,-1]*Kscale[-1]>=0.95*SInit*0.5*(10./11.))\n",
    "        if len(complete[0])>0:\n",
    "            EquilibriumTime[i,j] = timeorig[np.min(complete[0])]*2\n",
    "        else:\n",
    "            EquilibriumTime[i,j] = timeorig[-1]*5"
   ]
  },
  {
   "cell_type": "markdown",
   "metadata": {},
   "source": [
    "Using the end point defined in the previous cell, the next one solves for the full time series up to that time for each parameter set. This set of data is then going to be converted into (progress, concentration) series - instead of (time, concentration). Because each path stops around equilibrium and is well resolved throughout the progress of the path we are able to get enough resolution in progress space for all parameter sets"
   ]
  },
  {
   "cell_type": "code",
   "execution_count": 67,
   "metadata": {},
   "outputs": [
    {
     "name": "stdout",
     "output_type": "stream",
     "text": [
      "[===================================================]      [===================================================]"
     ]
    }
   ],
   "source": [
    "rescaledsol = np.zeros((51,51,1000,3*(ngrid+2)))\n",
    "Times = np.zeros((51,51,1000))\n",
    "\n",
    "for i in (range(51)):\n",
    "    perm0c = 10**(values[i])\n",
    "    perm1c = perm0c\n",
    "    perm2c = perm0c\n",
    "    for j in (range(51)):\n",
    "        Time = np.linspace(0,EquilibriumTime[i,j],1000)\n",
    "        Times[i,j] = Time\n",
    "        a = sys.stdout\n",
    "        a.write('\\r')\n",
    "        a.write('[%-51s]      [%-51s]' % ('='*(i+1),'='*(j+1)))\n",
    "        a.flush()\n",
    "        perm0b = 10**(values[j]+1)\n",
    "        perm1b = perm0b\n",
    "        perm2b = perm0b\n",
    "        rescaledsol[i,j] = odeint(SDeriv, y0, Time)"
   ]
  },
  {
   "cell_type": "code",
   "execution_count": 68,
   "metadata": {},
   "outputs": [],
   "source": [
    "np.save('WildType/States-ScaledTime.npy',rescaledsol)\n",
    "np.save('WildType/ScaledTimes.npy',Times)\n",
    "#This cell saves both the Time series and the times at which the data is collected for all parameter sets"
   ]
  },
  {
   "cell_type": "markdown",
   "metadata": {},
   "source": [
    "The next cell is used if you already have saved time series\n",
    "\n",
    "If you do not want to take the time to integrate the dynamics above - or you have already done this and saved the data, you can load the data series in the next cell"
   ]
  },
  {
   "cell_type": "code",
   "execution_count": null,
   "metadata": {},
   "outputs": [],
   "source": [
    "rescaledsol = np.load('WildType/States-ScaledTime.npy')\n",
    "Times = np.load('WildType/ScaledTimes.npy')\n",
    "sol = np.load('WildType/States-SameTime.npy')"
   ]
  },
  {
   "cell_type": "markdown",
   "metadata": {},
   "source": [
    "From now on all cells are used regardless of if you have previously generated data or not."
   ]
  },
  {
   "cell_type": "code",
   "execution_count": 335,
   "metadata": {},
   "outputs": [],
   "source": [
    "#Create a grid of parameter values - This will be used later to define the grid when plotting the model surface \n",
    "\n",
    "kc = np.zeros((51,51))\n",
    "kb = np.zeros((51,51))\n",
    "\n",
    "for i in (range(51)):\n",
    "    for j in (range(51)):\n",
    "        kc[i,j] = 10**(values[i])\n",
    "        kb[i,j] = 10**(values[j]+1)"
   ]
  },
  {
   "cell_type": "markdown",
   "metadata": {},
   "source": [
    "The next few cells are used to define progress and calculate split the data points into progress \"bins\"\n",
    "\n",
    "\\begin{equation}p = \\frac{2 m_\\perp P_{ext} - S_{ext} + S_0}{S_0(1+m_\\perp^2)}\\end{equation}\n",
    "\n",
    "Here $m_\\perp \\equiv \\frac{V_{ratio}}{1+V_{ratio}}$\n",
    "\n",
    "Then $D_{\\perp}$ is defined as the distance from the point of the path in (P,S) space to the line that connects the initial and final points of the path in (P,S) space\n",
    "\n",
    "\\begin{equation}\n",
    "D_\\perp = \\sqrt{4 P_{ext}^2 + (S_{ext} - S_0)^2 - [l(S_{ext},P_{ext},S_0)]^2} \\end{equation}\n",
    "\n",
    "where we define\n",
    "\\begin{equation} l(S_{ext},P_{ext},S_0) = \\frac{2 m_\\perp P_{ext} - S_{ext} +S_0}{\\sqrt{1+m_\\perp^2}}\\end{equation}"
   ]
  },
  {
   "cell_type": "code",
   "execution_count": 183,
   "metadata": {},
   "outputs": [],
   "source": [
    "def p(S,P,S0):\n",
    "    mperp = np.divide(np.float(Vratio),np.float(Vratio)+1.)\n",
    "    return np.divide(2*mperp*P - S + S0,S0*(1+mperp**2))\n",
    "\n",
    "def l(S,P,S0):\n",
    "    mperp = np.divide(np.float(Vratio),np.float(Vratio)+1.)\n",
    "    return np.divide(2*mperp*P - S + S0,np.sqrt(1+mperp**2))\n",
    "    \n",
    "\n",
    "def Dperp(S,P,S0):\n",
    "    mperp = np.divide(np.float(Vratio),np.float(Vratio)+1.)\n",
    "    return np.sqrt(4*P**2 + (S-S0)**2 - l(S,P,S0)**2)"
   ]
  },
  {
   "cell_type": "markdown",
   "metadata": {},
   "source": [
    "The next cell calculates the progress and $D_\\perp$ values for each time point for each parameter set using the scaled time set"
   ]
  },
  {
   "cell_type": "code",
   "execution_count": 184,
   "metadata": {},
   "outputs": [],
   "source": [
    "progressvalues = np.zeros((51,51,1000))\n",
    "Disp = np.zeros((51,51,1000))\n",
    "\n",
    "for i in range(51):\n",
    "    for j in range(51):\n",
    "        progressvalues[i,j] = p(rescaledsol[i,j,:,-3]*Kscale[0],rescaledsol[i,j,:,-1]*Kscale[2],SInit)\n",
    "        Disp[i,j] = Dperp(rescaledsol[i,j,:,-3]*Kscale[0],rescaledsol[i,j,:,-1]*Kscale[2],SInit)"
   ]
  },
  {
   "cell_type": "markdown",
   "metadata": {},
   "source": [
    "The next cell creates a list called \"ByProgress\" the i'th element of this list is the set of all points in $(Intermediate,D_\\perp)$ space that exist between the i'th and (i+1)'st percentage values of progress.\n",
    "\n",
    "Because some paths are more resolved or take longer in certain regions than others, you get that there are often multiple time points from a single path that land in the same progress set. This should be fine because they are close to one another and should not add too much excess variation when doing PCA"
   ]
  },
  {
   "cell_type": "code",
   "execution_count": 185,
   "metadata": {},
   "outputs": [],
   "source": [
    "ByProgress = []\n",
    "for i in np.arange(0,1,0.01):\n",
    "    placeholder = rescaledsol[:,:,:,-3:][np.where(np.logical_and(progressvalues>=i,progressvalues<i+0.01))]*Kscale\n",
    "    placeholderInt = placeholder[:,1]\n",
    "    placeholderD = Dperp(placeholder[:,0],placeholder[:,2],SInit)\n",
    "    placeholder2 = np.array([placeholderInt,placeholderD])\n",
    "    ByProgress.append(placeholder2)"
   ]
  },
  {
   "cell_type": "markdown",
   "metadata": {},
   "source": [
    "In the following cell we take each element in the \"ByProgress\" list - remember, these are a set of 2-D points - and calculate PCA on them. This gives us the variation in the $D_\\perp$ and Intermediate metabolite at each progress value.\n",
    "\n",
    "The eigenvectors, eigenvalues, and eigenvalue ratios are all saved for each progress value.\n",
    "\n",
    "We then plot the eigenvalues over progress to show how the variation changes as the dynamics progress"
   ]
  },
  {
   "cell_type": "code",
   "execution_count": 528,
   "metadata": {},
   "outputs": [],
   "source": [
    "progressPCA = np.array([0])\n",
    "pca = sklearnPCA()\n",
    "PCA_Vectors = []\n",
    "PCA_Values = []\n",
    "PCA_Ratios = []\n",
    "for i in range(1,100):\n",
    "    if len(ByProgress[i][0]>0):\n",
    "        progressPCA = np.vstack([progressPCA,i])\n",
    "        X = ByProgress[i].T\n",
    "        pca.fit(X)\n",
    "        PCA_Vectors.append(pca.components_)\n",
    "        PCA_Values.append(pca.explained_variance_)\n",
    "        PCA_Ratios.append(pca.explained_variance_ratio_)\n",
    "        \n",
    "progressPCA = np.reshape(progressPCA[1:],-1)\n",
    "PCA_Vectors = np.asarray(PCA_Vectors)\n",
    "PCA_Values = np.asarray(PCA_Values)\n",
    "PCA_Ratios = np.asarray(PCA_Ratios)\n",
    "\n",
    "plt.plot(progressPCA,PCA_Values[:,0])\n",
    "plt.plot(progressPCA,PCA_Values[:,1])\n",
    "plt.xlabel('progress')\n",
    "plt.ylabel('Eigenvalues')\n",
    "plt.show()"
   ]
  },
  {
   "cell_type": "code",
   "execution_count": 530,
   "metadata": {},
   "outputs": [],
   "source": [
    "#Plot of all dimensions with  progress as independent variable. This is to help visualize the space in progress\n",
    "#instead of time.\n",
    "\n",
    "colors = ['#332288', '#88CCEE', '#117733','#DDCC77', '#CC6677','#AA4499']\n",
    "\n",
    "plt.suptitle('States vs Progress',fontsize = 20)\n",
    "\n",
    "plt.subplot(221)\n",
    "for i in range(0,51,5):\n",
    "    for j in range(0,51,5):\n",
    "        plt.plot(progressvalues[i,j]*100,rescaledsol[i,j,:,-2]*Kscale[1],colors[0])\n",
    "plt.axvline(x=progressPCA[np.argmax(PCA_Values[:,0])],color = 'k')\n",
    "plt.ylabel('Intermediate Metabolite\\nConcentration',fontsize = 15)\n",
    "        \n",
    "plt.subplot(222)\n",
    "for i in range(0,51,5):\n",
    "    for j in range(0,51,5):\n",
    "        plt.plot(progressvalues[i,j]*100,Disp[i,j],colors[1])\n",
    "plt.axvline(x=progressPCA[np.argmax(PCA_Values[:,0])],color = 'k')\n",
    "plt.ylabel('Distance from\\nProgress Metric',fontsize = 15)\n",
    "        \n",
    "plt.subplot(223)\n",
    "for i in range(0,51,5):\n",
    "    for j in range(0,51,5):\n",
    "        plt.plot(progressvalues[i,j]*100,rescaledsol[i,j,:,-3]*Kscale[0],colors[2])\n",
    "plt.axvline(x=progressPCA[np.argmax(PCA_Values[:,0])],color = 'k')\n",
    "plt.ylabel('Substrate Metabolite\\nConcentration',fontsize = 15)\n",
    "plt.xlabel('Progress',fontsize = 15)\n",
    "        \n",
    "plt.subplot(224)\n",
    "for i in range(0,51,5):\n",
    "    for j in range(0,51,5):\n",
    "        plt.plot(progressvalues[i,j]*100,rescaledsol[i,j,:,-1]*Kscale[2],colors[4])\n",
    "plt.axvline(x=progressPCA[np.argmax(PCA_Values[:,0])],color = 'k')\n",
    "plt.ylabel('Product Metabolite\\nConcentration',fontsize = 15)\n",
    "plt.xlabel('Progress',fontsize = 15)\n",
    "        \n",
    "plt.tight_layout()      \n",
    "plt.show()"
   ]
  },
  {
   "cell_type": "markdown",
   "metadata": {},
   "source": [
    "We now take the data that was originally collected at all the same time points (This is the first set of data that was made) and look at the variation of the three metabolite concentrations over time.\n",
    "\n",
    "Because the product is split between 2 different products and it appears (if you didn't know that there were 2 products) that the product somehow managed to make half the mass disappear, we run PCA in $(S,I,2P)$ space. This also allows us to  make sure that the fact that the scale of the product being half the scale of the other two metabolites doesn't affect the results\n",
    "\n",
    "We again plot the eigenvalues over time to show that there is a peak in eigenvalue and variability\n",
    "\n",
    "*Note*: In this case we have a 3d space while in the progress case we have a 2d space. This is because when we choose to have progress as our independent variable, the S and P variables are now coupled and not independent - since their relationship defines progress"
   ]
  },
  {
   "cell_type": "code",
   "execution_count": 531,
   "metadata": {},
   "outputs": [],
   "source": [
    "PCA_T_Vectors = []\n",
    "PCA_T_Values = []\n",
    "PCA_T_Ratios = []\n",
    "\n",
    "for t in range(0,len(timeorig)):\n",
    "    x1 = np.reshape(sol[:,:,t,-3]*Kscale[0],(-1))\n",
    "    x2 = np.reshape(sol[:,:,t,-2]*Kscale[1],(-1))\n",
    "    x3 = 2*np.reshape(sol[:,:,t,-1]*Kscale[1],(-1))\n",
    "    X = np.array([x1,x2,x3]).T\n",
    "    pca.fit(X)\n",
    "    PCA_T_Vectors.append(pca.components_)\n",
    "    PCA_T_Values.append(pca.explained_variance_)\n",
    "    PCA_T_Ratios.append(pca.explained_variance_ratio_)\n",
    "\n",
    "PCA_Time = timeorig\n",
    "PCA_T_Vectors = np.asarray(PCA_T_Vectors)    \n",
    "PCA_T_Values = np.asarray(PCA_T_Values)    \n",
    "PCA_T_Ratios = np.asarray(PCA_T_Ratios)\n",
    "\n",
    "plt.plot(PCA_Time,PCA_T_Values[:,0])\n",
    "plt.plot(PCA_Time,PCA_T_Values[:,1])\n",
    "plt.plot(PCA_Time,PCA_T_Values[:,2])\n",
    "plt.show()"
   ]
  },
  {
   "cell_type": "code",
   "execution_count": 533,
   "metadata": {},
   "outputs": [],
   "source": [
    "#Here we plot several paths to show how the parameter values affect the time series. The black line marks the time at\n",
    "#which we have the largest eigenvalue\n",
    "\n",
    "colors = ['#332288', '#88CCEE', '#117733','#DDCC77', '#CC6677','#AA4499']\n",
    "\n",
    "plt.suptitle('States vs Time',fontsize = 20)\n",
    "\n",
    "plt.subplot(221)\n",
    "for i in range(0,51,5):\n",
    "    for j in range(0,51,5):\n",
    "        plt.plot(timeorig,sol[i,j,:,-2]*Kscale[1],colors[0])\n",
    "plt.axvline(x=PCA_Time[np.argmax(PCA_T_Values[:,0])],color = 'k')\n",
    "plt.ylabel('Intermediate Metabolite\\nConcentration',fontsize = 15)\n",
    "        \n",
    "plt.subplot(222)\n",
    "for i in range(0,51,5):\n",
    "    for j in range(0,51,5):\n",
    "        plt.plot(timeorig,sol[i,j,:,-3]*Kscale[0],colors[2])\n",
    "plt.axvline(x=PCA_Time[np.argmax(PCA_T_Values[:,0])],color = 'k')\n",
    "plt.ylabel('Substrate Metabolite\\nConcentration',fontsize = 15)\n",
    "plt.xlabel('Time',fontsize = 15)\n",
    "        \n",
    "plt.subplot(223)\n",
    "for i in range(0,51,5):\n",
    "    for j in range(0,51,5):\n",
    "        plt.plot(timeorig,sol[i,j,:,-1]*Kscale[2],colors[4])\n",
    "plt.axvline(x=PCA_Time[np.argmax(PCA_T_Values[:,0])],color = 'k')\n",
    "plt.ylabel('Product Metabolite\\nConcentration',fontsize = 15)\n",
    "plt.xlabel('Time',fontsize = 15)\n",
    "        \n",
    "plt.tight_layout()      \n",
    "plt.show()"
   ]
  },
  {
   "cell_type": "markdown",
   "metadata": {},
   "source": [
    "Now that we have finished calculating PCA for both time and progress space, we analyze these results.\n",
    "\n",
    "First Progress:\n",
    "\n",
    "We want to find the point at which the progress of each path corresponds to the highest eigenvalue. This particular point in the path will be used as an observation. We will choose 1 path to be the \"truth\" and will calculate the error surface between this \"true\" path and all the others using just the most first eigenvector of the most variable progress point for each eigenvalue.\n",
    "\n",
    "Since the progress is not calculated at exactly the same points, we need to determine what the progress is at the points closest to the most variable progress point. And look up the value of the states at those points.\n",
    "\n",
    "We also want to look at just the first eigenvector, in progress space because if we look at the eigenvalue decomposition, the first eigenvector contains close to 100% of the variation"
   ]
  },
  {
   "cell_type": "markdown",
   "metadata": {},
   "source": [
    "Choose a path to be our \"True\" Path. This will be an index for the parameters that we want to  be the correct value we will compare to. I've chosen indices that approximately match what we expect the permeabilities to be.\n",
    "\n",
    "This truth value will be the same for all analysis used"
   ]
  },
  {
   "cell_type": "code",
   "execution_count": 538,
   "metadata": {},
   "outputs": [],
   "source": [
    "truth_index = (15,34)"
   ]
  },
  {
   "cell_type": "code",
   "execution_count": 534,
   "metadata": {},
   "outputs": [],
   "source": [
    "#Find the progress value at which the eigenvalue is largest\n",
    "VarProg = progressPCA[np.argmax(PCA_Values[:,0])]*0.01 #this is as a fraction\n",
    "VarProgPercent = progressPCA[np.argmax(PCA_Values[:,0])] #This is a percentage and an index to be plugged into the arrays"
   ]
  },
  {
   "cell_type": "code",
   "execution_count": 535,
   "metadata": {},
   "outputs": [],
   "source": [
    "#Find the point in each time series that ends up with the closest progress to the one picked out by PCA\n",
    "\n",
    "closestProg = np.zeros((51,51))\n",
    "locProg = np.zeros((51,51))\n",
    "\n",
    "for i in range(51):\n",
    "    for j in range(51):\n",
    "        loc = np.argmin((progressvalues[i,j]-VarProg)**2)\n",
    "        closestProg[i,j] = (progressvalues[i,j,loc])\n",
    "        locProg[i,j] = np.int(loc)"
   ]
  },
  {
   "cell_type": "code",
   "execution_count": 536,
   "metadata": {},
   "outputs": [],
   "source": [
    "#Create the vectors of (Intermediate,Dperp) coordinates for the points corresponding to the highest variability in progress\n",
    "\n",
    "Data_Var_Prog = np.zeros((51,51,2))\n",
    "\n",
    "for i in range(51):\n",
    "    for j in range(51):\n",
    "        time_of_prog = int(locProg[i,j])\n",
    "        Data_Var_Prog[i,j] = np.array([rescaledsol[i,j,time_of_prog,-2]*Kscale[1],Disp[i,j,time_of_prog]])\n",
    "Data_Var_Prog_reshape = np.reshape(Data_Var_Prog,(51*51,2))"
   ]
  },
  {
   "cell_type": "code",
   "execution_count": 537,
   "metadata": {},
   "outputs": [],
   "source": [
    "#Calculate the the length of both eigenvectors using the (Int,Dperp) data points and the eigenvectors found in PCA\n",
    "\n",
    "PCA_Var_Vec_reshape = np.array([np.dot(Data_Var_Prog_reshape,PCA_Vectors[VarProgPercent,0]),np.dot(Data_Var_Prog_reshape,PCA_Vectors[VarProgPercent,1])])\n",
    "PCA_Var_Vec = np.array([np.dot(Data_Var_Prog,PCA_Vectors[VarProgPercent,0]),np.dot(Data_Var_Prog,PCA_Vectors[VarProgPercent,1])])"
   ]
  },
  {
   "cell_type": "code",
   "execution_count": 539,
   "metadata": {},
   "outputs": [],
   "source": [
    "#Calculate error between First eigenvector length for progress PCA as compared to the \"true\" path. This is a percent\n",
    "#error and is calculated by a difference divided by the length of the true path eigenvector\n",
    "PCA_Error = np.divide(np.absolute(PCA_Var_Vec[(0,) + truth_index] - PCA_Var_Vec[0]),np.absolute(PCA_Var_Vec[0]))"
   ]
  },
  {
   "cell_type": "code",
   "execution_count": 540,
   "metadata": {},
   "outputs": [],
   "source": [
    "#Plot the error calculated above as a heat map. The white star corresponds to the \"true\" path. The white contour\n",
    "#corresponds to 1% error\n",
    "\n",
    "cont = plt.pcolormesh(kc,kb,PCA_Error,norm = matplotlib.colors.LogNorm(),shading = 'gouraud',cmap = 'magma')\n",
    "plt.scatter(kc[truth_index],kb[truth_index],marker = '*',color = 'white')\n",
    "plt.contour(kc,kb,PCA_Error,levels = [0.1])\n",
    "plt.xscale('log')\n",
    "plt.yscale('log')\n",
    "plt.colorbar(cont,label = 'Percent Error Compared to \"Truth\"')\n",
    "plt.ylabel('Cell Permeability')\n",
    "plt.xlabel('MicroCompartment Permeability')\n",
    "plt.title('Error Plot Using Most Variable Progress Value')\n",
    "plt.show()"
   ]
  },
  {
   "cell_type": "markdown",
   "metadata": {},
   "source": [
    "We do the same error calculation  using the  most variable time point instead of progress. Again, only using the first eigenvector"
   ]
  },
  {
   "cell_type": "code",
   "execution_count": 544,
   "metadata": {},
   "outputs": [],
   "source": [
    "#Find the time point at which the eigenvalue is largest when doing PCA over time\n",
    "#Collect a set of data points in (S,I,2P) for that specific time value\n",
    "\n",
    "#NOTE: It is important that you save 2*P as your last dimension in the data points because that is what PCA was done using\n",
    "#And your eigenvector has 2*P as one of the dimensions, NOT just P\n",
    "\n",
    "Data_Var_Time = np.zeros((51,51,3))\n",
    "\n",
    "PCATimeIndex = np.argmax(PCA_T_Values[:,0])\n",
    "\n",
    "for i in range(51):\n",
    "    for j in range(51):\n",
    "        Data_Var_Time[i,j] = np.array([sol[i,j,PCATimeIndex,-3]*Kscale[0],sol[i,j,PCATimeIndex,-2]*Kscale[1],2*sol[i,j,PCATimeIndex,-1]*Kscale[2]])\n",
    "Data_Var_Time_reshape = np.reshape(Data_Var_Time,(51*51,3))\n",
    "\n",
    "Time_Var_Vec = np.array([np.dot(Data_Var_Time,PCA_T_Vectors[PCATimeIndex,0]),np.dot(Data_Var_Time,PCA_T_Vectors[PCATimeIndex,1]),np.dot(Data_Var_Time,PCA_T_Vectors[PCATimeIndex,2])])\n"
   ]
  },
  {
   "cell_type": "code",
   "execution_count": 545,
   "metadata": {},
   "outputs": [],
   "source": [
    "#Calculate a percent error again for the first eigenvector between the \"true\" path and the grid of parameters\n",
    "\n",
    "Time_Error = np.divide(np.absolute(Time_Var_Vec[(0,) + truth_index] - Time_Var_Vec[0]),np.absolute(Time_Var_Vec[0]))"
   ]
  },
  {
   "cell_type": "code",
   "execution_count": 546,
   "metadata": {},
   "outputs": [],
   "source": [
    "#Plot the error manifold - \"true\" path is again the white star and the 1% error curve is the white contour\n",
    "\n",
    "cont = plt.pcolormesh(kc,kb,Time_Error,norm = matplotlib.colors.LogNorm(),shading = 'gouraud',cmap = 'magma')\n",
    "plt.contour(kc,kb,Time_Error,levels = [0.1],colors = 'white')\n",
    "plt.scatter(kc[truth_index],kb[truth_index],marker = '*',color = 'white')\n",
    "plt.xscale('log')\n",
    "plt.yscale('log')\n",
    "plt.colorbar(cont,label = 'Percent Error Compared to \"Truth\"')\n",
    "plt.ylabel('Cell Permeability')\n",
    "plt.xlabel('MicroCompartment Permeability')\n",
    "plt.title('Error Plot Using Most Variable Time Value')\n",
    "plt.show()"
   ]
  },
  {
   "cell_type": "markdown",
   "metadata": {},
   "source": [
    "We now do an error calculation for the full time series.\n",
    "\n",
    "In this case there is no manipulation of the product value, we're just using the \"raw\" output of the measurements to compare the curves\n",
    "\n",
    "One constraint is the selection of time points at which to do this analysis. Since the integration generated 1000 time points for each path (and this is extremely unrealistic for an experiment) I have subsampled down to 2 data points.\n",
    "In addition I have subsampled in such a way that the time points are chosen so that the \"true\" path (or data when we have real data) is well resolved. Meaning, the end point is about where the true path reaches equilibrium and we don't have a bunch of data sitting at steady state. This is done because collecting a lot of steady state data makes it harder to differentiate paths (since they all reach the same steady state) and because it is not realistic for us to continue running the experiment once the system has reached steady state.\n",
    "\n",
    "You can play around with the chosen times to see the effect of choosing different time points"
   ]
  },
  {
   "cell_type": "code",
   "execution_count": 547,
   "metadata": {},
   "outputs": [],
   "source": [
    "#The error is calculated by setting the collected data to a T*3-dimensional vector (where T is the number of time points)\n",
    "#Then we take the difference between the \"true\" and estimated paths. The magnitude of this vector is calculated and scaled\n",
    "#by the magnitude of the vector for the \"true\" path. This gives a percent error between the two paths\n",
    "\n",
    "Series_Error = np.divide(np.sqrt(np.sum(np.square((sol[:,:,:80:4,-3:]-sol[truth_index][:80:4,-3:])*Kscale),axis = (2,3))),np.sqrt(np.sum(np.square((sol[truth_index][:80:4,-3:]*Kscale)))))"
   ]
  },
  {
   "cell_type": "code",
   "execution_count": 548,
   "metadata": {},
   "outputs": [],
   "source": [
    "#Plot heat map of entire series error - star is \"true\" - contour is 1% error\n",
    "\n",
    "cont = plt.pcolormesh(kc,kb,Series_Error,norm = matplotlib.colors.LogNorm(),shading = 'gouraud',cmap = 'magma')\n",
    "plt.contour(kc,kb,Series_Error,levels = [0.1],colors = 'white')\n",
    "plt.scatter(kc[truth_index],kb[truth_index],marker = '*',color = 'white')\n",
    "plt.xscale('log')\n",
    "plt.yscale('log')\n",
    "plt.colorbar(cont,label = 'Percent Error Compared to \"Truth\"')\n",
    "plt.ylabel('Cell Permeability')\n",
    "plt.xlabel('MicroCompartment Permeability')\n",
    "plt.title('Error Plot Using Full Time Series')\n",
    "plt.show()"
   ]
  },
  {
   "cell_type": "code",
   "execution_count": 549,
   "metadata": {},
   "outputs": [],
   "source": [
    "#Combine all error maps together - All are plotted using the same colorbar and scale.\n",
    "#You can see that the most variable progress value constrains a smaller region than the most variable time point\n",
    "\n",
    "#You can also see that the \"good\" region chosen by the most variable progress value does just as well as the good region\n",
    "#using the whole time series. If different time points are chosen for the whole time series, the region may become more\n",
    "#poorly constrained than. The progress value calculation uses just one well chosen time point and contains the same\n",
    "#amount of information as the whole path\n",
    "\n",
    "plt.suptitle('Error Heat Map Using',fontsize = 20)\n",
    "\n",
    "plt.subplot(131)\n",
    "cont = plt.pcolormesh(kc,kb,PCA_Error,norm = matplotlib.colors.LogNorm(vmin=10**(-4.8), vmax=10**(2.3)),shading = 'gouraud',cmap = 'magma')\n",
    "plt.scatter(kc[truth_index],kb[truth_index],marker = '*',color = 'white')\n",
    "plt.contour(kc,kb,PCA_Error,levels = [0.1],colors = 'white')\n",
    "plt.xscale('log')\n",
    "plt.yscale('log')\n",
    "plt.ylabel('Cell Permeability',fontsize = 18)\n",
    "plt.title('Most Variable\\nProgress Value',fontsize = 18)\n",
    "\n",
    "plt.subplot(132)\n",
    "cont = plt.pcolormesh(kc,kb,Time_Error,norm = matplotlib.colors.LogNorm(vmin=10**(-4.8), vmax=10**(2.3)),shading = 'gouraud',cmap = 'magma')\n",
    "plt.contour(kc,kb,Time_Error,levels = [0.1],colors = 'white')\n",
    "plt.scatter(kc[truth_index],kb[truth_index],marker = '*',color = 'white')\n",
    "plt.xscale('log')\n",
    "plt.yscale('log')\n",
    "plt.xlabel('MicroCompartment Permeability',fontsize = 18)\n",
    "plt.title('Most Variable\\nTime Value',fontsize = 18)\n",
    "\n",
    "plt.subplot(133)\n",
    "cont = plt.pcolormesh(kc,kb,Series_Error,norm = matplotlib.colors.LogNorm(vmin=10**(-4.8), vmax=10**(2.3)),shading = 'gouraud',cmap = 'magma')\n",
    "plt.contour(kc,kb,Series_Error,levels = [0.1],colors = 'white')\n",
    "plt.scatter(kc[truth_index],kb[truth_index],marker = '*',color = 'white')\n",
    "plt.colorbar(cont,label = 'Percent Error Compared to \"Truth\"')\n",
    "plt.xscale('log')\n",
    "plt.yscale('log')\n",
    "plt.title('Full Time Series\\n(Subsampled-20 time points)',fontsize = 18)\n",
    "\n",
    "\n",
    "plt.show()"
   ]
  },
  {
   "cell_type": "code",
   "execution_count": null,
   "metadata": {},
   "outputs": [],
   "source": []
  },
  {
   "cell_type": "code",
   "execution_count": null,
   "metadata": {},
   "outputs": [],
   "source": []
  },
  {
   "cell_type": "code",
   "execution_count": null,
   "metadata": {},
   "outputs": [],
   "source": []
  },
  {
   "cell_type": "code",
   "execution_count": null,
   "metadata": {},
   "outputs": [],
   "source": []
  },
  {
   "cell_type": "markdown",
   "metadata": {},
   "source": [
    "The following cells attempt the integrate in terms of progress as an independent variable. This will lose all concept of time and the conversion back to time space will not be possible. On the above cells the integration is done in time. Based on a derivation for the \"progress\" variable, we can convert every x-t plot to an x-p plot (where x is a placeholder for a generic state in the system).\n",
    "\n",
    "To define progress we first set up our coordinates in the (2 * external Product,external Substrate) plane. We choose the factor of 2 in the x-coordinate because for this *specific* case, the product concentration is split into 2 products of equal concentration. We take into account that there is no loss of mass by doubling the final product. There should not be any difference in the final results if we don't use that factor of 2. We just need to  make sure to calculate all the terms (including slope and final states) correctly if this 2 is not included. Note that for a reversible reaction at time = 0 we start at $(0,S_0)$. And at time = equilibrium time we end at $(2 * P_f,0)$. If there is a ratio of $m_\\perp = \\frac{V_{ext}}{V_{ext}+V_{cell}}$ between the outside concentration and the total solution concentration, then we get $2\\cdot P_f = S_0 \\cdot m_\\perp$\n",
    "\n",
    "Then the line connecting the initial and final states of the system is the straight line from $(0,S_0) \\rightarrow (m_\\perp\\cdot S_0,0)$.\n",
    "\n",
    "We define the progress variable as a parametrization along this line that is equally distributed. The progress of a generic point $(2\\cdot P_{ext},S_{ext})$ is then given by projecting this curve onto the \"progress line\" in $(2\\cdot P_{ext},S_{ext})$ space and determining what fraction, $p$, of the way from the initial to final points this curve lies.\n",
    "\n",
    "Following some algebra, you get that the progress of a point can be calculated from its product and substrate values:\n",
    "\n",
    "\\begin{equation}p = \\frac{2 m_\\perp P_{ext} - S_{ext} + S_0}{S_0(1+m_\\perp^2)}\\end{equation}\n",
    "\n",
    "We can then calculate the change in progress over time:\n",
    "\n",
    "\\begin{equation}\\dot p = \\frac{1}{S_0(1+m_\\perp^2)} \\left[2 m_\\perp \\dot P_{ext} - \\dot S_{ext}\\right]\\end{equation}\n",
    "\n",
    "If we wish to covert our differential equations in time to equations in $p$ we can apply the chain rule. Define $\\mathbf{X}$ as the vector of state values and $\\dot{\\mathbf{X}} = \\mathbf{F}(\\mathbf{X})$. Then \n",
    "\n",
    "\\begin{gather}\n",
    "\\dot{\\mathbf{X}} = \\frac{d \\mathbf{X}}{d p} \\dot p\\\\\n",
    "\\frac{d \\mathbf{X}}{d p} = \\dot{\\mathbf{X}}\\cdot (\\dot p)^{-1}\\\\\n",
    "\\frac{d \\mathbf{X}}{d p} = \\mathbf{F}(\\mathbf{X}) \\cdot (\\dot p)^{-1}\\\\\n",
    "\\frac{d \\mathbf{X}}{d p} = \\frac{\\mathbf{F}(\\mathbf{X}) \\cdot(S_0(1+m_\\perp^2))}{2 m_\\perp \\dot P_{ext} - \\dot S_{ext}}\n",
    "\\end{gather} "
   ]
  },
  {
   "cell_type": "code",
   "execution_count": null,
   "metadata": {},
   "outputs": [],
   "source": []
  }
 ],
 "metadata": {
  "kernelspec": {
   "display_name": "Python 3",
   "language": "python",
   "name": "python3"
  },
  "language_info": {
   "codemirror_mode": {
    "name": "ipython",
    "version": 3
   },
   "file_extension": ".py",
   "mimetype": "text/x-python",
   "name": "python",
   "nbconvert_exporter": "python",
   "pygments_lexer": "ipython3",
   "version": "3.7.3"
  }
 },
 "nbformat": 4,
 "nbformat_minor": 2
}
